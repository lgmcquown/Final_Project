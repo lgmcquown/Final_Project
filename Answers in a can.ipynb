{
 "cells": [
  {
   "cell_type": "code",
   "execution_count": 69,
   "metadata": {
    "collapsed": true
   },
   "outputs": [],
   "source": [
    "import numpy as np\n",
    "import scipy.constants as constants"
   ]
  },
  {
   "cell_type": "code",
   "execution_count": 70,
   "metadata": {
    "collapsed": false
   },
   "outputs": [],
   "source": [
    "def E_Sphere(R,rho,x):\n",
    "    if x < R :\n",
    "        E_Field_Sphere = (rho/constants.epsilon_0)*(x/3)\n",
    "    if x >= R:\n",
    "        E_Field_Sphere = (rho/constants.epsilon_0)*((R**3)/(3*(x**2)))\n",
    "    return E_Field_Sphere"
   ]
  },
  {
   "cell_type": "code",
   "execution_count": 71,
   "metadata": {
    "collapsed": false
   },
   "outputs": [],
   "source": [
    "def E_Cylinder(R,rho,x):\n",
    "    if x < R :\n",
    "        E_Field_cylinder = (rho/constants.epsilon_0)*(x/2)\n",
    "    if x >= R:\n",
    "        E_Field_cylinder = (rho/constants.epsilon_0)*((R**2)/(2*(x)))\n",
    "    return E_Field_cylinder"
   ]
  },
  {
   "cell_type": "code",
   "execution_count": 72,
   "metadata": {
    "collapsed": false
   },
   "outputs": [],
   "source": [
    "def E_Plane(sigma):\n",
    "    E_Field_Plane = sigma/(2*constants.epsilon_0)\n",
    "    return E_Field_Plane"
   ]
  },
  {
   "cell_type": "code",
   "execution_count": 73,
   "metadata": {
    "collapsed": false
   },
   "outputs": [],
   "source": [
    "def E_Sphere_Shell(R,sigma,x):\n",
    "    if x < R :\n",
    "        E_Field_Sphere_Shell = 0\n",
    "    if x >= R:\n",
    "        E_Field_Sphere_Shell = (sigma/constants.epsilon_0)*((R**2)/((x**2)))\n",
    "    return E_Field_Sphere_Shell"
   ]
  },
  {
   "cell_type": "code",
   "execution_count": 74,
   "metadata": {
    "collapsed": false
   },
   "outputs": [],
   "source": [
    "def E_Cylinder_Shell(R,sigma,x):\n",
    "    if x < R :\n",
    "        E_Field_Cylinder_Shell = 0\n",
    "    if x >= R:\n",
    "        E_Field_Cylinder_Shell = (sigma/constants.epsilon_0)*((R)/((x)))\n",
    "    return E_Field_Cylinder_Shell"
   ]
  },
  {
   "cell_type": "code",
   "execution_count": 75,
   "metadata": {
    "collapsed": true
   },
   "outputs": [],
   "source": [
    "class Sphere(object) :\n",
    "    \"\"\"A spherical object with uniform charge density rho, a vector defining its center, center,\n",
    "    and a radius,radius.\"\"\"\n",
    "    \n",
    "    def __init__(self, center,radius,rho,):\n",
    "        self.center = center\n",
    "        self.radius = radius\n",
    "        self.rho = rho"
   ]
  },
  {
   "cell_type": "code",
   "execution_count": 76,
   "metadata": {
    "collapsed": true
   },
   "outputs": [],
   "source": [
    "class Sherical_shell(object) :\n",
    "    \"\"\"A spherical shell with uniform charge density sigma\"\"\"\n",
    "    \n",
    "    def __init__(self,center, radius, sigma) :\n",
    "        self.center = center\n",
    "        self.radius = radius\n",
    "        self.sigma = sigma"
   ]
  },
  {
   "cell_type": "code",
   "execution_count": 77,
   "metadata": {
    "collapsed": true
   },
   "outputs": [],
   "source": [
    "class Cylinder(object) :\n",
    "    \"\"\"A cylindrical object with uniform charge density rho\"\"\"\n",
    "    \n",
    "    def __init__(self, center, axis, radius, rho):\n",
    "        self.center = center\n",
    "        self.axis = axis\n",
    "        self.radius = radius\n",
    "        self.rho = rho"
   ]
  },
  {
   "cell_type": "code",
   "execution_count": 78,
   "metadata": {
    "collapsed": true
   },
   "outputs": [],
   "source": [
    "class Cylindrical_shell(object):\n",
    "    \"\"\"\"\"\"\n",
    "\n",
    "    def __init__(self, center, axis, radius, sigma):\n",
    "        self.center = center\n",
    "        self.axis = axis\n",
    "        self.radius = radius\n",
    "        self.sigma = sigma"
   ]
  },
  {
   "cell_type": "code",
   "execution_count": 79,
   "metadata": {
    "collapsed": true
   },
   "outputs": [],
   "source": [
    "class Infinite_Plane(object):\n",
    "    \n",
    "    def __init__(self, normal,sigma):\n",
    "        self.normal = normal\n",
    "        self.sigma = sigma"
   ]
  },
  {
   "cell_type": "code",
   "execution_count": 83,
   "metadata": {
    "collapsed": false,
    "scrolled": true
   },
   "outputs": [
    {
     "data": {
      "text/plain": [
       "[0.000470587111149228,\n",
       " 0.0002823522666895368,\n",
       " 0.001411761333447684,\n",
       " 0.0005647045333790736,\n",
       " 564704533379.0736]"
      ]
     },
     "execution_count": 83,
     "metadata": {},
     "output_type": "execute_result"
    }
   ],
   "source": [
    "A = E_Sphere(5.0,.00000000000001,10.0)\n",
    "B = E_Sphere_Shell(5.0,.00000000000001,10.0)\n",
    "C = E_Cylinder(5.0,.00000000000001,10.0)\n",
    "D = E_Cylinder_Shell(5.0,.00000000000001,10.0)\n",
    "E = E_Plane(10)\n",
    "\n",
    "values = [A,B,C,D,E]\n",
    "values\n"
   ]
  }
 ],
 "metadata": {
  "kernelspec": {
   "display_name": "Python 3",
   "language": "python",
   "name": "python3"
  },
  "language_info": {
   "codemirror_mode": {
    "name": "ipython",
    "version": 3
   },
   "file_extension": ".py",
   "mimetype": "text/x-python",
   "name": "python",
   "nbconvert_exporter": "python",
   "pygments_lexer": "ipython3",
   "version": "3.5.1"
  }
 },
 "nbformat": 4,
 "nbformat_minor": 0
}
