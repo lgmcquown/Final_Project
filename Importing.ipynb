{
 "cells": [
  {
   "cell_type": "code",
   "execution_count": 1,
   "metadata": {
    "collapsed": false
   },
   "outputs": [],
   "source": [
    "import Charged_Objects as obj\n",
    "import numpy as np"
   ]
  },
  {
   "cell_type": "code",
   "execution_count": 2,
   "metadata": {
    "collapsed": false
   },
   "outputs": [],
   "source": [
    "A = obj.ChargedSphere(np.array([0,0,0]),1,.00000001)\n",
    "B = obj.ChargedSphereShell(np.array([1,0,0]),1,.00000001)\n",
    "C = obj.ChargedCylinder(np.array([0,-1,0]), np.array([0,1,0]),1,.000000001)\n",
    "D = obj.ChargedCylinderShell(np.array([0,1,0]), np.array([0,1,0]),1,.000000001)\n",
    "E = obj.ChargedPlane(np.array([1,2,1]),.000000000001,np.array([1,0,0]))"
   ]
  },
  {
   "cell_type": "code",
   "execution_count": 3,
   "metadata": {
    "collapsed": false
   },
   "outputs": [],
   "source": [
    "List_of_Objects = [A,B,C,D,E]"
   ]
  },
  {
   "cell_type": "code",
   "execution_count": 4,
   "metadata": {
    "collapsed": false
   },
   "outputs": [
    {
     "data": {
      "text/plain": [
       "array([ 0.18383063,  0.00299233,  1.8354692 ])"
      ]
     },
     "execution_count": 4,
     "metadata": {},
     "output_type": "execute_result"
    }
   ],
   "source": [
    "EFIELD = obj.E_Superposition(List_of_Objects, np.array([7,2,100]))\n",
    "EFIELD"
   ]
  },
  {
   "cell_type": "code",
   "execution_count": 5,
   "metadata": {
    "collapsed": false
   },
   "outputs": [
    {
     "data": {
      "text/plain": [
       "-358.27620594302778"
      ]
     },
     "execution_count": 5,
     "metadata": {},
     "output_type": "execute_result"
    }
   ],
   "source": [
    "VFIELD = obj.V_Superposition(List_of_Objects, np.array([100,100,100]))\n",
    "VFIELD"
   ]
  },
  {
   "cell_type": "code",
   "execution_count": 6,
   "metadata": {
    "collapsed": false
   },
   "outputs": [],
   "source": [
    "# def Sweep(List_of_Objects,x_range,y_range,z_range):\n",
    "#     import Charged_Objects\n",
    "#     Xpoints = list(range(x_range[0],x_range[1]+1))\n",
    "#     Ypoints = list(range(y_range[0],y_range[1]+1))\n",
    "#     Zpoints = list(range(z_range[0],z_range[1]+1))\n",
    "#     I = len(Xpoints)\n",
    "#     J = len(Ypoints)\n",
    "#     K = len(Zpoints)\n",
    "#     NumElements = I*J*K*4\n",
    "#     Array = np.array(range(NumElements))\n",
    "#     DataTensor = Array.reshape(I,J,K,4)\n",
    "#     for i in range(0,I):\n",
    "#         x = Xpoints[i]\n",
    "#         for j in range(0,J):\n",
    "#             y = Ypoints[j]\n",
    "#             for k in range(0,K):\n",
    "#                 z = Zpoints[k]\n",
    "#                 E = E_Superposition(List_of_Objects,[x,y,z])\n",
    "#                 V = V_Superposition(List_of_Objects,[x,y,z])\n",
    "#                 DataTensor[i,j,k,:] = [E[0],E[1],E[2],V]\n",
    "#     return DataTensor"
   ]
  },
  {
   "cell_type": "code",
   "execution_count": 9,
   "metadata": {
    "collapsed": false,
    "scrolled": true
   },
   "outputs": [],
   "source": [
    "#obj.Sweep_Points(List_of_Objects,[5,10],[5,10],[5,10])"
   ]
  },
  {
   "cell_type": "code",
   "execution_count": 21,
   "metadata": {
    "collapsed": false
   },
   "outputs": [],
   "source": [
    "WORK = obj.ChargedCylinder(np.array([0,0,0]), np.array([1,1,0]),1,.000000001)\n",
    "DoIt = WORK.E(np.array([1,1,2]))\n",
    "Ehat = DoIt/np.linalg.norm(DoIt)\n",
    "exp = np.array([0,0,1])\n",
    "np.testing.assert_almost_equal(Ehat,exp, decimal = 10)"
   ]
  },
  {
   "cell_type": "code",
   "execution_count": 20,
   "metadata": {
    "collapsed": false
   },
   "outputs": [],
   "source": []
  }
 ],
 "metadata": {
  "kernelspec": {
   "display_name": "Python 3",
   "language": "python",
   "name": "python3"
  },
  "language_info": {
   "codemirror_mode": {
    "name": "ipython",
    "version": 3
   },
   "file_extension": ".py",
   "mimetype": "text/x-python",
   "name": "python",
   "nbconvert_exporter": "python",
   "pygments_lexer": "ipython3",
   "version": "3.5.1"
  }
 },
 "nbformat": 4,
 "nbformat_minor": 0
}
