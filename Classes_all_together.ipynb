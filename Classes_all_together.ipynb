{
 "cells": [
  {
   "cell_type": "code",
   "execution_count": 48,
   "metadata": {
    "collapsed": false
   },
   "outputs": [],
   "source": [
    "import numpy as np\n",
    "import scipy.constants as constants\n",
    "import math\n"
   ]
  },
  {
   "cell_type": "code",
   "execution_count": 49,
   "metadata": {
    "collapsed": false
   },
   "outputs": [],
   "source": [
    "class ChargedObject(object):\n",
    "    \n",
    "    def __init__(self, center):\n",
    "        self.c = center"
   ]
  },
  {
   "cell_type": "code",
   "execution_count": 50,
   "metadata": {
    "collapsed": false
   },
   "outputs": [],
   "source": [
    "#A =ChargedObject(np.array([5,4,3]))\n",
    "\n",
    "#A.c\n"
   ]
  },
  {
   "cell_type": "code",
   "execution_count": 51,
   "metadata": {
    "collapsed": false
   },
   "outputs": [],
   "source": [
    "#A=np.array([4,3])\n",
    "#B=np.array([5,12])\n",
    "\n",
    "#C= A+B\n",
    "#D= A-B\n",
    "\n",
    "#C,D"
   ]
  },
  {
   "cell_type": "code",
   "execution_count": 52,
   "metadata": {
    "collapsed": false
   },
   "outputs": [],
   "source": [
    "# Amag=np.linalg.norm(A)\n",
    "# Bmag=np.linalg.norm(B)\n",
    "# Cmag=np.linalg.norm(C)\n",
    "# Dmag=np.linalg.norm(D)\n",
    "\n",
    "\n",
    "# Amag**2, Bmag**2"
   ]
  },
  {
   "cell_type": "code",
   "execution_count": 53,
   "metadata": {
    "collapsed": false
   },
   "outputs": [],
   "source": [
    "class ChargedSphere(ChargedObject):\n",
    "\n",
    "        \n",
    "    def __init__(self,center,radius,distribution):\n",
    "        self.c = center\n",
    "        self.rad = radius\n",
    "        self.rho = distribution\n",
    "    \n",
    "            \n",
    "    def E(self,x):\n",
    "        if np.linalg.norm(x-self.c) == 0:\n",
    "            raise ZeroDivisionError\n",
    "        if np.linalg.norm(x-self.c) < self.rad :\n",
    "            E_Field = (self.rho/constants.epsilon_0)*(np.linalg.norm(x-self.c)/3)\n",
    "        if np.linalg.norm(x-self.c) >= self.rad:\n",
    "            E_Field = (self.rho/constants.epsilon_0)*((self.rad**3)/(3*(np.linalg.norm(x-self.c)**2)))\n",
    "        \n",
    "        E_hat = (x-self.c)/np.linalg.norm(x-self.c)\n",
    "        \n",
    "        return E_Field*E_hat\n",
    "    \n",
    "    def V(self,x):\n",
    "        if np.linalg.norm(x-self.c) == 0:\n",
    "            raise ZeroDivisionError\n",
    "        if np.linalg.norm(x-self.c) < self.rad :\n",
    "            V = (self.rho/6*constants.epsilon_0)*(3 - ((np.linalg.norm(x-self.c)**2)/self.rad**2))\n",
    "        if np.linalg.norm(x-self.c) >= self.rad:\n",
    "            V = (self.rho*((self.rad)^3)/((3*constants.epsilon_0)*(np.linalg.norm(x-self.c))))         \n",
    "        return V    "
   ]
  },
  {
   "cell_type": "code",
   "execution_count": 54,
   "metadata": {
    "collapsed": false
   },
   "outputs": [
    {
     "data": {
      "text/plain": [
       "array([  0.        ,   2.83968386,  14.19841931])"
      ]
     },
     "execution_count": 54,
     "metadata": {},
     "output_type": "execute_result"
    }
   ],
   "source": [
    "V = 0\n",
    "A = ChargedSphere(np.array([0,0,0]),1,.00000001)\n",
    "#A.c, A.rad, A.rho\n",
    "A.E(np.array([0,1,5]))"
   ]
  },
  {
   "cell_type": "code",
   "execution_count": 55,
   "metadata": {
    "collapsed": false
   },
   "outputs": [
    {
     "data": {
      "text/plain": [
       "752.93937783876481"
      ]
     },
     "execution_count": 55,
     "metadata": {},
     "output_type": "execute_result"
    }
   ],
   "source": [
    "A.V(np.array([0,0,1]))\n"
   ]
  },
  {
   "cell_type": "code",
   "execution_count": 56,
   "metadata": {
    "collapsed": true
   },
   "outputs": [],
   "source": [
    "class ChargedSphereShell(ChargedObject):\n",
    "    \n",
    "    def __init__(self,center,radius,distribution):\n",
    "        self.c = center\n",
    "        self.rad = radius\n",
    "        self.sigma = distribution\n",
    "        \n",
    "                \n",
    "    def E(self,x):\n",
    "        if np.linalg.norm(x-self.c) < self.rad :\n",
    "            E_Field = 0\n",
    "        if np.linalg.norm(x-self.c) >= self.rad:\n",
    "            E_Field = (self.sigma/constants.epsilon_0)*((self.rad**2)/((np.linalg.norm(x-self.c)**2)))\n",
    "        \n",
    "        E_hat = (x-self.c)/np.linalg.norm(x-self.c)\n",
    "        return E_Field*E_hat\n",
    "        \n",
    "    def V(self,x):\n",
    "        if np.linalg.norm(x-self.c) == 0:\n",
    "            raise ZeroDivisionError\n",
    "        if np.linalg.norm(x-self.c) < self.rad :\n",
    "            V = (self.sigma/6*constants.epsilon_0)*(3 - ((np.linalg.norm(x-self.c)**2)/self.rad**2))\n",
    "        if np.linalg.norm(x-self.c) >= self.rad:\n",
    "            V = (self.sigma*((self.rad)^3)/((3*constants.epsilon_0)*(np.linalg.norm(x-self.c))))         \n",
    "        return V"
   ]
  },
  {
   "cell_type": "code",
   "execution_count": 72,
   "metadata": {
    "collapsed": false
   },
   "outputs": [
    {
     "data": {
      "text/plain": [
       "336.72472635677536"
      ]
     },
     "execution_count": 72,
     "metadata": {},
     "output_type": "execute_result"
    }
   ],
   "source": [
    "B = ChargedSphereShell(np.array([1,0,0]),1,.00000001)\n",
    "B.V(np.array([3,1,0]))"
   ]
  },
  {
   "cell_type": "code",
   "execution_count": null,
   "metadata": {
    "collapsed": true
   },
   "outputs": [],
   "source": []
  },
  {
   "cell_type": "code",
   "execution_count": 58,
   "metadata": {
    "collapsed": false
   },
   "outputs": [],
   "source": [
    "class ChargedCylinderShell(ChargedObject):\n",
    "    def __init__(self, center, axis, radius, distribution):\n",
    "        self.c = center\n",
    "        self.axis = axis\n",
    "        self.rad = radius\n",
    "        self.sigma = distribution\n",
    "\n",
    "        \n",
    "    def E(self,x):\n",
    "        axis_hat = self.axis/np.linalg.norm(self.axis)\n",
    "        r_vec = x-self.c\n",
    "        r_parallel = np.dot(axis_hat,r_vec)\n",
    "        E_not_hat = (r_vec - (axis_hat*r_parallel))\n",
    "        E_hat = E_not_hat/np.linalg.norm(E_not_hat)\n",
    "        r_perp = np.linalg.norm(np.cross(axis_hat,r_vec))\n",
    "        \n",
    "        if r_perp <= self.rad :\n",
    "            E_Field = 0\n",
    "        if r_perp > self.rad:\n",
    "            E_Field = (self.sigma/constants.epsilon_0)*((self.rad)/((r_perp)))\n",
    "        return E_Field*E_hat\n",
    "    \n",
    "    def V(self,x):\n",
    "        axis_hat = self.axis/np.linalg.norm(self.axis)\n",
    "        r_vec = x-self.c\n",
    "        r_parallel = np.dot(axis_hat,r_vec)\n",
    "        E_not_hat = (r_vec - (axis_hat*r_parallel))\n",
    "        E_hat = E_not_hat/np.linalg.norm(E_not_hat)\n",
    "        r_perp = np.linalg.norm(np.cross(axis_hat,r_vec))\n",
    "        \n",
    "        if r_perp <= self.rad :\n",
    "            V_field = 0\n",
    "        if r_perp > self.rad :\n",
    "            V_field = (self.sigma*self.rad/constants.epsilon_0)*math.log(r_perp/self.rad)\n",
    "            \n",
    "        return V_field"
   ]
  },
  {
   "cell_type": "code",
   "execution_count": 59,
   "metadata": {
    "collapsed": false
   },
   "outputs": [
    {
     "data": {
      "text/plain": [
       "181.7713770687378"
      ]
     },
     "execution_count": 59,
     "metadata": {},
     "output_type": "execute_result"
    }
   ],
   "source": [
    "C = ChargedCylinderShell(np.array([0,-1,0]), np.array([0,1,0]),1,.000000001)\n",
    "C.V(np.array([5,4,0]))"
   ]
  },
  {
   "cell_type": "code",
   "execution_count": 60,
   "metadata": {
    "collapsed": false
   },
   "outputs": [],
   "source": [
    "class ChargedCylinder(ChargedObject):\n",
    "    \n",
    "    def __init__(self,center, axis, radius, distribution) :\n",
    "        self.c = center\n",
    "        self.rad = radius\n",
    "        self.axis = axis\n",
    "        self.sigma = sigma\n",
    "                \n",
    "    def E(self,x):\n",
    "        axis_hat = self.axis/np.linalg.norm(self.axis)\n",
    "        r_vec = x-self.c\n",
    "        r_parallel = np.dot(axis_hat,r_vec)\n",
    "        E_not_hat = (r_vec - (axis_hat*r_parallel))\n",
    "        E_hat = E_not_hat/np.linalg.norm(E_not_hat)\n",
    "        r_perp = np.linalg.norm(np.cross(axis_hat,r_vec))\n",
    "        \n",
    "        if r_perp <= self.rad:\n",
    "            E_Field = (self.rho/constants.epsilon_0)*(r_perp/2)\n",
    "        if r_perp > self.rad:\n",
    "            E_Field = (self.rho/constants.epsilon_0)*((self.rad**2)/(2*r_perp))\n",
    "        E_hat = r_vec - (axis_hat*r_parallel)\n",
    "        \n",
    "        return E_Field*E_hat\n",
    "    \n",
    "    def V(self,x):\n",
    "        axis_hat = self.axis/np.linalg.norm(self.axis)\n",
    "        r_vec = x-self.c\n",
    "        r_parallel = np.dot(axis_hat,r_vec)\n",
    "        E_not_hat = (r_vec - (axis_hat*r_parallel))\n",
    "        E_hat = E_not_hat/np.linalg.norm(E_not_hat)\n",
    "        r_perp = np.linalg.norm(np.cross(axis_hat,r_vec))\n",
    "        \n",
    "        if r_perp <= self.rad:\n",
    "            V_field = (self.rho/4*constants.epsilon_0)*((r_perp)^2)\n",
    "        if r_perp > self.rad:\n",
    "            V_field = (self.rho/(2*constants.epsilon_0))*((self.rho**2))*math.log(r_perp/self.R)\n",
    "        return V_field\n",
    "    "
   ]
  },
  {
   "cell_type": "code",
   "execution_count": 74,
   "metadata": {
    "collapsed": false
   },
   "outputs": [
    {
     "data": {
      "text/plain": [
       "220.91371258485026"
      ]
     },
     "execution_count": 74,
     "metadata": {},
     "output_type": "execute_result"
    }
   ],
   "source": [
    "D = ChargedCylinderShell(np.array([0,1,0]), np.array([0,1,0]),1,.000000001)\n",
    "D.V(np.array([1,1,7]))"
   ]
  },
  {
   "cell_type": "code",
   "execution_count": 76,
   "metadata": {
    "collapsed": false
   },
   "outputs": [],
   "source": [
    "class ChargedPlane(ChargedObject):\n",
    "    \n",
    "    def __init__(self,center, distribution,normal):\n",
    "        class Infinite_Plane(object):\n",
    "    \n",
    "            self.normal = normal\n",
    "            self.sigma = distribution\n",
    "            self.c = center\n",
    "        \n",
    "        \n",
    "    def E(self,sigma):\n",
    "        E_Field = self.sigma/(2*constants.epsilon_0)\n",
    "        E_hat = self.normal/np.linalg.norm(self.normal)\n",
    "        return E_Field*E_hat\n",
    "        \n",
    "    def V(self,x):\n",
    "        r_vec = (x -self.c)\n",
    "        perp_distance = np.dot(self.normal,r_vec)\n",
    "        V_field = -np.linalg.norm(self.E(self.sigma))*perp_distance\n",
    "        return V_field"
   ]
  },
  {
   "cell_type": "code",
   "execution_count": 77,
   "metadata": {
    "collapsed": false
   },
   "outputs": [],
   "source": [
    "E = ChargedPlane(np.array([1,2,1]),.000000000001,np.array([1,0,0]))"
   ]
  },
  {
   "cell_type": "code",
   "execution_count": 78,
   "metadata": {
    "collapsed": true
   },
   "outputs": [],
   "source": [
    "List_of_objects = [A,B,C,D,E]"
   ]
  },
  {
   "cell_type": "code",
   "execution_count": 79,
   "metadata": {
    "collapsed": false
   },
   "outputs": [],
   "source": [
    "Total_E = 0\n",
    "for obj in List_of_objects:\n",
    "    Total_E += obj.E(np.array([7,2,1]))\n",
    "    "
   ]
  },
  {
   "cell_type": "code",
   "execution_count": 80,
   "metadata": {
    "collapsed": false
   },
   "outputs": [
    {
     "data": {
      "text/plain": [
       "array([ 64.13328635,  10.50154638,   9.76840946])"
      ]
     },
     "execution_count": 80,
     "metadata": {},
     "output_type": "execute_result"
    }
   ],
   "source": [
    "Total_E"
   ]
  },
  {
   "cell_type": "code",
   "execution_count": 81,
   "metadata": {
    "collapsed": true
   },
   "outputs": [],
   "source": [
    "#write a page or two to tell where the math comes from"
   ]
  },
  {
   "cell_type": "code",
   "execution_count": 82,
   "metadata": {
    "collapsed": false
   },
   "outputs": [],
   "source": [
    "def E_Superposition(List_of_objects,x):\n",
    "    Total_E = 0\n",
    "    for obj in List_of_objects:\n",
    "        Total_E += obj.E(x)\n",
    "    return Total_E"
   ]
  },
  {
   "cell_type": "code",
   "execution_count": 83,
   "metadata": {
    "collapsed": false
   },
   "outputs": [
    {
     "data": {
      "text/plain": [
       "array([ 64.13328635,  10.50154638,   9.76840946])"
      ]
     },
     "execution_count": 83,
     "metadata": {},
     "output_type": "execute_result"
    }
   ],
   "source": [
    "EFIELD = E_Superposition(List_of_objects, np.array([7,2,1]))\n",
    "EFIELD"
   ]
  },
  {
   "cell_type": "code",
   "execution_count": 84,
   "metadata": {
    "collapsed": true
   },
   "outputs": [],
   "source": [
    "def V_Superposition(List_of_objects,x):\n",
    "    Total_V = 0\n",
    "    for obj in List_of_objects:\n",
    "        Total_V += obj.V(x)\n",
    "    return Total_V"
   ]
  },
  {
   "cell_type": "code",
   "execution_count": 86,
   "metadata": {
    "collapsed": false
   },
   "outputs": [
    {
     "data": {
      "text/plain": [
       "644.63701010056946"
      ]
     },
     "execution_count": 86,
     "metadata": {},
     "output_type": "execute_result"
    }
   ],
   "source": [
    "VFIELD = V_Superposition(List_of_objects, np.array([7,7,7]))\n",
    "VFIELD"
   ]
  },
  {
   "cell_type": "code",
   "execution_count": null,
   "metadata": {
    "collapsed": true
   },
   "outputs": [],
   "source": []
  }
 ],
 "metadata": {
  "kernelspec": {
   "display_name": "Python 3",
   "language": "python",
   "name": "python3"
  },
  "language_info": {
   "codemirror_mode": {
    "name": "ipython",
    "version": 3
   },
   "file_extension": ".py",
   "mimetype": "text/x-python",
   "name": "python",
   "nbconvert_exporter": "python",
   "pygments_lexer": "ipython3",
   "version": "3.5.1"
  }
 },
 "nbformat": 4,
 "nbformat_minor": 0
}
