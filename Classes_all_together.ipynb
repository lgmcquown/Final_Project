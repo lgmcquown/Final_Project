{
 "cells": [
  {
   "cell_type": "code",
   "execution_count": 1,
   "metadata": {
    "collapsed": false
   },
   "outputs": [],
   "source": [
    "import numpy as np\n",
    "import scipy.constants as constants\n",
    "import math\n"
   ]
  },
  {
   "cell_type": "code",
   "execution_count": 2,
   "metadata": {
    "collapsed": false
   },
   "outputs": [],
   "source": [
    "class ChargedObject(object):\n",
    "    \n",
    "    def __init__(self, center):\n",
    "        self.c = center"
   ]
  },
  {
   "cell_type": "code",
   "execution_count": 3,
   "metadata": {
    "collapsed": false
   },
   "outputs": [],
   "source": [
    "#A =ChargedObject(np.array([5,4,3]))\n",
    "\n",
    "#A.c\n"
   ]
  },
  {
   "cell_type": "code",
   "execution_count": 4,
   "metadata": {
    "collapsed": false
   },
   "outputs": [],
   "source": [
    "#A=np.array([4,3])\n",
    "#B=np.array([5,12])\n",
    "\n",
    "#C= A+B\n",
    "#D= A-B\n",
    "\n",
    "#C,D"
   ]
  },
  {
   "cell_type": "code",
   "execution_count": 5,
   "metadata": {
    "collapsed": false
   },
   "outputs": [],
   "source": [
    "# Amag=np.linalg.norm(A)\n",
    "# Bmag=np.linalg.norm(B)\n",
    "# Cmag=np.linalg.norm(C)\n",
    "# Dmag=np.linalg.norm(D)\n",
    "\n",
    "\n",
    "# Amag**2, Bmag**2"
   ]
  },
  {
   "cell_type": "code",
   "execution_count": 6,
   "metadata": {
    "collapsed": false
   },
   "outputs": [],
   "source": [
    "class ChargedSphere(ChargedObject):\n",
    "\n",
    "        \n",
    "    def __init__(self,center,radius,distribution):\n",
    "        self.c = center\n",
    "        self.rad = radius\n",
    "        self.rho = distribution\n",
    "    \n",
    "            \n",
    "    def E(self,x):\n",
    "        if np.linalg.norm(x-self.c) == 0:\n",
    "            E_Field = np.array([0,0,0])\n",
    "        if np.linalg.norm(x-self.c) < self.rad :\n",
    "            E_Field = (self.rho/constants.epsilon_0)*(np.linalg.norm(x-self.c)/3)\n",
    "        if np.linalg.norm(x-self.c) >= self.rad:\n",
    "            E_Field = (self.rho/constants.epsilon_0)*((self.rad**3)/(3*(np.linalg.norm(x-self.c)**2)))\n",
    "        \n",
    "        E_hat = (x-self.c)/np.linalg.norm(x-self.c)\n",
    "        \n",
    "        return E_Field*E_hat\n",
    "    \n",
    "    def V(self,x):\n",
    "        pi = 3.14159\n",
    "        q = self.rho*(4/3)*pi*((self.rad)^3)\n",
    "        r_perp = np.linalg.norm(x-self.c)\n",
    "        if r_perp == 0:\n",
    "            raise ZeroDivisionError\n",
    "        if r_perp < self.rad :\n",
    "            V = (q/(8*pi*constants.epsilon_0*self.rad))*(3-(r_perp/self.rad)^2)\n",
    "        if r_perp >= self.rad:\n",
    "            V = q/(4*pi*constants.epsilon_0*r_perp)         \n",
    "        return V    "
   ]
  },
  {
   "cell_type": "code",
   "execution_count": 7,
   "metadata": {
    "collapsed": false
   },
   "outputs": [
    {
     "data": {
      "text/plain": [
       "array([  0.        ,   2.83968386,  14.19841931])"
      ]
     },
     "execution_count": 7,
     "metadata": {},
     "output_type": "execute_result"
    }
   ],
   "source": [
    "V = 0\n",
    "A = ChargedSphere(np.array([0,0,0]),1,.00000001)\n",
    "#A.c, A.rad, A.rho\n",
    "A.E(np.array([0,1,5]))"
   ]
  },
  {
   "cell_type": "code",
   "execution_count": 8,
   "metadata": {
    "collapsed": false
   },
   "outputs": [
    {
     "data": {
      "text/plain": [
       "7.5293937783876483"
      ]
     },
     "execution_count": 8,
     "metadata": {},
     "output_type": "execute_result"
    }
   ],
   "source": [
    "A.V(np.array([0,0,100]))\n"
   ]
  },
  {
   "cell_type": "code",
   "execution_count": 9,
   "metadata": {
    "collapsed": true
   },
   "outputs": [],
   "source": [
    "class ChargedSphereShell(ChargedObject):\n",
    "    \n",
    "    def __init__(self,center,radius,distribution):\n",
    "        self.c = center\n",
    "        self.rad = radius\n",
    "        self.sigma = distribution\n",
    "        \n",
    "                \n",
    "    def E(self,x):\n",
    "        if np.linalg.norm(x-self.c) < self.rad :\n",
    "            E_Field = 0\n",
    "        if np.linalg.norm(x-self.c) >= self.rad:\n",
    "            E_Field = (self.sigma/constants.epsilon_0)*((self.rad**2)/((np.linalg.norm(x-self.c)**2)))\n",
    "        \n",
    "        E_hat = (x-self.c)/np.linalg.norm(x-self.c)\n",
    "        return E_Field*E_hat\n",
    "        \n",
    "    def V(self,x):\n",
    "        pi = 3.14159\n",
    "        q = self.sigma*(4)*pi*((self.rad)^2)\n",
    "        r_perp = np.linalg.norm(x-self.c)\n",
    "        if np.linalg.norm(x-self.c) == 0:\n",
    "            raise ZeroDivisionError\n",
    "        if np.linalg.norm(x-self.c) < self.rad :\n",
    "            V = q/(4*pi*constants.epsilon_0*self.rad)\n",
    "        if np.linalg.norm(x-self.c) >= self.rad:\n",
    "            V = q/(4*pi*constants.epsilon_0*r_perp)         \n",
    "        return V"
   ]
  },
  {
   "cell_type": "code",
   "execution_count": 10,
   "metadata": {
    "collapsed": false
   },
   "outputs": [
    {
     "data": {
      "text/plain": [
       "23.838893326700571"
      ]
     },
     "execution_count": 10,
     "metadata": {},
     "output_type": "execute_result"
    }
   ],
   "source": [
    "B = ChargedSphereShell(np.array([1,0,0]),1,.00000001)\n",
    "B.V(np.array([100,20,100]))"
   ]
  },
  {
   "cell_type": "code",
   "execution_count": null,
   "metadata": {
    "collapsed": true
   },
   "outputs": [],
   "source": []
  },
  {
   "cell_type": "code",
   "execution_count": 11,
   "metadata": {
    "collapsed": false
   },
   "outputs": [],
   "source": [
    "class ChargedCylinderShell(ChargedObject):\n",
    "    def __init__(self, center, axis, radius, distribution):\n",
    "        self.c = center\n",
    "        self.axis = axis\n",
    "        self.rad = radius\n",
    "        self.sigma = distribution\n",
    "\n",
    "\n",
    "    def E(self,x):\n",
    "        axis_hat = self.axis/np.linalg.norm(self.axis)\n",
    "        r_vec = x-self.c\n",
    "        r_parallel = np.dot(axis_hat,r_vec)\n",
    "        E_not_hat = (r_vec - (axis_hat*r_parallel))\n",
    "        E_hat = E_not_hat/np.linalg.norm(E_not_hat)\n",
    "        r_perp = np.linalg.norm(np.cross(axis_hat,r_vec))\n",
    "\n",
    "        if r_perp <= self.rad :\n",
    "            E_Field = 0\n",
    "        if r_perp > self.rad:\n",
    "            E_Field = (self.sigma/constants.epsilon_0)*((self.rad)/((r_perp)))\n",
    "        return E_Field*E_hat\n",
    "\n",
    "    \n",
    "    def V(self,x):\n",
    "        axis_hat = self.axis/np.linalg.norm(self.axis)\n",
    "        r_vec = x-self.c\n",
    "        r_parallel = np.dot(axis_hat,r_vec)\n",
    "        E_not_hat = (r_vec - (axis_hat*r_parallel))\n",
    "        E_hat = E_not_hat/np.linalg.norm(E_not_hat)\n",
    "        r_perp = np.linalg.norm(np.cross(axis_hat,r_vec))\n",
    "        pi = 3.14159\n",
    "        a = 1000 #This is an arbitrary choice\n",
    "        \n",
    "        if r_perp <= self.rad :\n",
    "            V_field = (self.sigma/4*constants.epsilon_0)*(self.rad**2 -r_perp**2)\n",
    "        if r_perp > self.rad :\n",
    "            V_field = (self.sigma*self.rad/2*pi*constants.epsilon_0)*math.log(r_perp/a)\n",
    "            \n",
    "        return V_field"
   ]
  },
  {
   "cell_type": "code",
   "execution_count": 12,
   "metadata": {
    "collapsed": false
   },
   "outputs": [
    {
     "data": {
      "text/plain": [
       "-3.202461585979198e-20"
      ]
     },
     "execution_count": 12,
     "metadata": {},
     "output_type": "execute_result"
    }
   ],
   "source": [
    "C = ChargedCylinderShell(np.array([0,-1,0]), np.array([0,1,0]),1,.000000001)\n",
    "C.V(np.array([100,4,0]))"
   ]
  },
  {
   "cell_type": "code",
   "execution_count": 13,
   "metadata": {
    "collapsed": false
   },
   "outputs": [],
   "source": [
    "class ChargedCylinder(ChargedObject):\n",
    "    \n",
    "    def __init__(self,center, axis, radius, distribution) :\n",
    "        self.c = center\n",
    "        self.rad = radius\n",
    "        self.axis = axis\n",
    "        self.rho = distribution\n",
    "\n",
    "    def E(self,x):\n",
    "        axis_hat = self.axis/np.linalg.norm(self.axis)\n",
    "        r_vec = x-self.c\n",
    "        r_parallel = np.dot(axis_hat,r_vec)\n",
    "        E_not_hat = (r_vec - (axis_hat*r_parallel))\n",
    "        E_hat = E_not_hat/np.linalg.norm(E_not_hat)\n",
    "        \n",
    "        r_perp = np.linalg.norm(np.cross(axis_hat,r_vec))\n",
    "        if r_perp == 0 :\n",
    "            return np.array([0,0,0])\n",
    "        if 0 < r_perp <= self.rad :\n",
    "            E_Field = (self.rho/constants.epsilon_0)*(r_perp/2)\n",
    "        if r_perp > self.rad :\n",
    "            E_Field = (self.rho/constants.epsilon_0)*((self.rad**2)/(2*r_perp))\n",
    "        \n",
    "        return E_Field*E_hat\n",
    "    \n",
    "    def V(self,x):\n",
    "        axis_hat = self.axis/np.linalg.norm(self.axis)\n",
    "        r_vec = x-self.c\n",
    "        r_parallel = np.dot(axis_hat,r_vec)\n",
    "        E_not_hat = (r_vec - (axis_hat*r_parallel))\n",
    "        E_hat = E_not_hat/np.linalg.norm(E_not_hat)\n",
    "        r_perp = np.linalg.norm(np.cross(axis_hat,r_vec))\n",
    "        pi = 3.14159\n",
    "        q = self.rho*pi*((self.rad)^2) \n",
    "        a = 1000 #this is an arbitrary reference choice and either 0 or infinity would lead to problems\n",
    "        \n",
    "        if r_perp <= self.rad:\n",
    "            V_field = (self.rho/4*constants.epsilon_0)*(self.rad**2 - r_perp**2)\n",
    "        if r_perp > self.rad:\n",
    "            V_field = q/(2*pi*constants.epsilon_0)*math.log(r_perp/a)\n",
    "        return V_field        \n"
   ]
  },
  {
   "cell_type": "code",
   "execution_count": 14,
   "metadata": {
    "collapsed": false
   },
   "outputs": [
    {
     "data": {
      "text/plain": [
       "0.8428495412108394"
      ]
     },
     "execution_count": 14,
     "metadata": {},
     "output_type": "execute_result"
    }
   ],
   "source": [
    "D = ChargedCylinder(np.array([0,0,0]), np.array([0,0,1]),1,.000000001)\n",
    "D.V(np.array([1000,100,0]))"
   ]
  },
  {
   "cell_type": "code",
   "execution_count": 15,
   "metadata": {
    "collapsed": false
   },
   "outputs": [],
   "source": [
    "class ChargedPlane(ChargedObject):\n",
    "    \n",
    "    def __init__(self,center, distribution,normal):\n",
    "        class Infinite_Plane(object):\n",
    "    \n",
    "            self.normal = normal\n",
    "            self.sigma = distribution\n",
    "            self.c = center\n",
    "                \n",
    "    def E(self,x):\n",
    "        E_Field = self.sigma/(2*constants.epsilon_0)\n",
    "        if np.dot(x-self.c,self.normal) == 0:\n",
    "            E_hat = np.array([0,0,0])\n",
    "        if np.dot(x-self.c,self.normal) > 0:\n",
    "            E_hat = self.normal/np.linalg.norm(self.normal)\n",
    "        if np.dot(x-self.c,self.normal) < 0:\n",
    "            E_hat = -self.normal/np.linalg.norm(self.normal)\n",
    "        return E_Field*E_hat\n",
    "        \n",
    "    def V(self,x):\n",
    "        a = 1000 #this is an arbitrary choice as infinity would cause problems.\n",
    "        r_vec = (x -self.c)\n",
    "        perp_distance = np.dot(self.normal,r_vec)\n",
    "        V_field = np.linalg.norm(self.E(x))*(perp_distance-a)\n",
    "        return V_field"
   ]
  },
  {
   "cell_type": "code",
   "execution_count": 16,
   "metadata": {
    "collapsed": false
   },
   "outputs": [
    {
     "data": {
      "text/plain": [
       "0.0"
      ]
     },
     "execution_count": 16,
     "metadata": {},
     "output_type": "execute_result"
    }
   ],
   "source": [
    "J = ChargedPlane(np.array([0,0,0]),.000000000001,np.array([1,0,0]))\n",
    "J.V(np.array([1000,0,0]))\n"
   ]
  },
  {
   "cell_type": "code",
   "execution_count": 17,
   "metadata": {
    "collapsed": true
   },
   "outputs": [],
   "source": [
    "List_of_Objects = [A,B,C,D,J]"
   ]
  },
  {
   "cell_type": "code",
   "execution_count": 18,
   "metadata": {
    "collapsed": false
   },
   "outputs": [],
   "source": [
    "Total_E = 0\n",
    "for obj in List_of_Objects:\n",
    "    Total_E += obj.E(np.array([7,2,1]))\n",
    "    "
   ]
  },
  {
   "cell_type": "code",
   "execution_count": 19,
   "metadata": {
    "collapsed": false
   },
   "outputs": [
    {
     "data": {
      "text/plain": [
       "array([ 55.77992118,  12.63250689,   7.50959132])"
      ]
     },
     "execution_count": 19,
     "metadata": {},
     "output_type": "execute_result"
    }
   ],
   "source": [
    "Total_E"
   ]
  },
  {
   "cell_type": "code",
   "execution_count": 20,
   "metadata": {
    "collapsed": true
   },
   "outputs": [],
   "source": [
    "#write a page or two to tell where the math comes from"
   ]
  },
  {
   "cell_type": "code",
   "execution_count": 21,
   "metadata": {
    "collapsed": false
   },
   "outputs": [],
   "source": [
    "def E_Superposition(List_of_Objects,x):\n",
    "    Total_E = 0\n",
    "    for obj in List_of_Objects:\n",
    "        Total_E += obj.E(x)\n",
    "    return Total_E"
   ]
  },
  {
   "cell_type": "code",
   "execution_count": 22,
   "metadata": {
    "collapsed": false
   },
   "outputs": [
    {
     "data": {
      "text/plain": [
       "array([ 55.77992118,  12.63250689,   7.50959132])"
      ]
     },
     "execution_count": 22,
     "metadata": {},
     "output_type": "execute_result"
    }
   ],
   "source": [
    "EFIELD = E_Superposition(List_of_Objects, np.array([7,2,1]))\n",
    "EFIELD"
   ]
  },
  {
   "cell_type": "code",
   "execution_count": 23,
   "metadata": {
    "collapsed": true
   },
   "outputs": [],
   "source": [
    "def V_Superposition(List_of_Objects,x):\n",
    "    Total_V = 0\n",
    "    for obj in List_of_Objects:\n",
    "        Total_V += obj.V(x)\n",
    "    return Total_V"
   ]
  },
  {
   "cell_type": "code",
   "execution_count": 24,
   "metadata": {
    "collapsed": false
   },
   "outputs": [
    {
     "data": {
      "text/plain": [
       "-483.15494561619806"
      ]
     },
     "execution_count": 24,
     "metadata": {},
     "output_type": "execute_result"
    }
   ],
   "source": [
    "VFIELD = V_Superposition(List_of_Objects, np.array([7,7,7]))\n",
    "VFIELD"
   ]
  },
  {
   "cell_type": "code",
   "execution_count": 42,
   "metadata": {
    "collapsed": false
   },
   "outputs": [],
   "source": [
    "def Sweep(List_of_Objects,x_range,y_range,z_range):\n",
    "    Xpoints = list(range(x_range[0],x_range[1]+1))\n",
    "    Ypoints = list(range(y_range[0],y_range[1]+1))\n",
    "    Zpoints = list(range(z_range[0],z_range[1]+1))\n",
    "    I = len(Xpoints)\n",
    "    J = len(Ypoints)\n",
    "    K = len(Zpoints)\n",
    "    NumElements = I*J*K*4\n",
    "    Array = np.array(range(NumElements))\n",
    "    DataTensor = Array.reshape(I,J,K,4)\n",
    "    for i in range(0,I):\n",
    "        x = Xpoints[i]\n",
    "        for j in range(0,J):\n",
    "            y = Ypoints[j]\n",
    "            for k in range(0,K):\n",
    "                z = Zpoints[k]\n",
    "                E = E_Superposition(List_of_Objects,[x,y,z])\n",
    "                V = V_Superposition(List_of_Objects,[x,y,z])\n",
    "                DataTensor[i,j,k,:] = [E[0],E[1],E[2],V]\n",
    "    return DataTensor"
   ]
  },
  {
   "cell_type": "code",
   "execution_count": 43,
   "metadata": {
    "collapsed": false
   },
   "outputs": [
    {
     "name": "stderr",
     "output_type": "stream",
     "text": [
      "/userspace/l/lgmcquown/miniconda3/lib/python3.5/site-packages/ipykernel/__main__.py:14: RuntimeWarning: invalid value encountered in true_divide\n",
      "/userspace/l/lgmcquown/miniconda3/lib/python3.5/site-packages/ipykernel/__main__.py:29: RuntimeWarning: invalid value encountered in true_divide\n"
     ]
    },
    {
     "ename": "ValueError",
     "evalue": "cannot convert float NaN to integer",
     "output_type": "error",
     "traceback": [
      "\u001b[1;31m---------------------------------------------------------------------------\u001b[0m",
      "\u001b[1;31mValueError\u001b[0m                                Traceback (most recent call last)",
      "\u001b[1;32m<ipython-input-43-33dc47fa6f21>\u001b[0m in \u001b[0;36m<module>\u001b[1;34m()\u001b[0m\n\u001b[1;32m----> 1\u001b[1;33m \u001b[0mSweep\u001b[0m\u001b[1;33m(\u001b[0m\u001b[0mList_of_Objects\u001b[0m\u001b[1;33m,\u001b[0m\u001b[1;33m[\u001b[0m\u001b[1;33m-\u001b[0m\u001b[1;36m10\u001b[0m\u001b[1;33m,\u001b[0m\u001b[1;36m10\u001b[0m\u001b[1;33m]\u001b[0m\u001b[1;33m,\u001b[0m\u001b[1;33m[\u001b[0m\u001b[1;33m-\u001b[0m\u001b[1;36m10\u001b[0m\u001b[1;33m,\u001b[0m\u001b[1;36m10\u001b[0m\u001b[1;33m]\u001b[0m\u001b[1;33m,\u001b[0m\u001b[1;33m[\u001b[0m\u001b[1;33m-\u001b[0m\u001b[1;36m10\u001b[0m\u001b[1;33m,\u001b[0m\u001b[1;36m10\u001b[0m\u001b[1;33m]\u001b[0m\u001b[1;33m)\u001b[0m\u001b[1;33m\u001b[0m\u001b[0m\n\u001b[0m",
      "\u001b[1;32m<ipython-input-42-6443ab9ea706>\u001b[0m in \u001b[0;36mSweep\u001b[1;34m(List_of_Objects, x_range, y_range, z_range)\u001b[0m\n\u001b[0;32m     17\u001b[0m                 \u001b[0mE\u001b[0m \u001b[1;33m=\u001b[0m \u001b[0mE_Superposition\u001b[0m\u001b[1;33m(\u001b[0m\u001b[0mList_of_Objects\u001b[0m\u001b[1;33m,\u001b[0m\u001b[1;33m[\u001b[0m\u001b[0mx\u001b[0m\u001b[1;33m,\u001b[0m\u001b[0my\u001b[0m\u001b[1;33m,\u001b[0m\u001b[0mz\u001b[0m\u001b[1;33m]\u001b[0m\u001b[1;33m)\u001b[0m\u001b[1;33m\u001b[0m\u001b[0m\n\u001b[0;32m     18\u001b[0m                 \u001b[0mV\u001b[0m \u001b[1;33m=\u001b[0m \u001b[0mV_Superposition\u001b[0m\u001b[1;33m(\u001b[0m\u001b[0mList_of_Objects\u001b[0m\u001b[1;33m,\u001b[0m\u001b[1;33m[\u001b[0m\u001b[0mx\u001b[0m\u001b[1;33m,\u001b[0m\u001b[0my\u001b[0m\u001b[1;33m,\u001b[0m\u001b[0mz\u001b[0m\u001b[1;33m]\u001b[0m\u001b[1;33m)\u001b[0m\u001b[1;33m\u001b[0m\u001b[0m\n\u001b[1;32m---> 19\u001b[1;33m                 \u001b[0mDataTensor\u001b[0m\u001b[1;33m[\u001b[0m\u001b[0mi\u001b[0m\u001b[1;33m,\u001b[0m\u001b[0mj\u001b[0m\u001b[1;33m,\u001b[0m\u001b[0mk\u001b[0m\u001b[1;33m,\u001b[0m\u001b[1;33m:\u001b[0m\u001b[1;33m]\u001b[0m \u001b[1;33m=\u001b[0m \u001b[1;33m[\u001b[0m\u001b[0mE\u001b[0m\u001b[1;33m[\u001b[0m\u001b[1;36m0\u001b[0m\u001b[1;33m]\u001b[0m\u001b[1;33m,\u001b[0m\u001b[0mE\u001b[0m\u001b[1;33m[\u001b[0m\u001b[1;36m1\u001b[0m\u001b[1;33m]\u001b[0m\u001b[1;33m,\u001b[0m\u001b[0mE\u001b[0m\u001b[1;33m[\u001b[0m\u001b[1;36m2\u001b[0m\u001b[1;33m]\u001b[0m\u001b[1;33m,\u001b[0m\u001b[0mV\u001b[0m\u001b[1;33m]\u001b[0m\u001b[1;33m\u001b[0m\u001b[0m\n\u001b[0m\u001b[0;32m     20\u001b[0m     \u001b[1;32mreturn\u001b[0m \u001b[0mDataTensor\u001b[0m\u001b[1;33m\u001b[0m\u001b[0m\n",
      "\u001b[1;31mValueError\u001b[0m: cannot convert float NaN to integer"
     ]
    }
   ],
   "source": [
    "Sweep(List_of_Objects,[-10,10],[-10,10],[-10,10])"
   ]
  },
  {
   "cell_type": "code",
   "execution_count": 31,
   "metadata": {
    "collapsed": false
   },
   "outputs": [
    {
     "data": {
      "text/plain": [
       "array([ 0,  1,  2,  3,  4,  5,  6,  7,  8,  9, 10, 11, 12, 13, 14, 15, 16,\n",
       "       17, 18, 19, 20, 21, 22, 23, 24, 25, 26, 27, 28, 29, 30, 31, 32, 33,\n",
       "       34, 35, 36, 37, 38, 39, 40, 41, 42, 43, 44, 45, 46, 47, 48, 49, 50,\n",
       "       51, 52, 53, 54, 55, 56, 57, 58, 59, 60, 61, 62, 63])"
      ]
     },
     "execution_count": 31,
     "metadata": {},
     "output_type": "execute_result"
    }
   ],
   "source": [
    "Array = np.array(range(64))\n",
    "Array"
   ]
  },
  {
   "cell_type": "code",
   "execution_count": null,
   "metadata": {
    "collapsed": false
   },
   "outputs": [],
   "source": [
    "Brray =Array.reshape(2,2,4,2,2)\n",
    "Brray"
   ]
  },
  {
   "cell_type": "code",
   "execution_count": 36,
   "metadata": {
    "collapsed": false
   },
   "outputs": [
    {
     "data": {
      "text/plain": [
       "array([[[[  0,   1,   2,   3],\n",
       "         [  4,   5,   6,   7],\n",
       "         [  8,   9,  10,  11],\n",
       "         [ 12,  13,  14,  15],\n",
       "         [ 16,  17,  18,  19]],\n",
       "\n",
       "        [[ 20,  21,  22,  23],\n",
       "         [ 24,  25,  26,  27],\n",
       "         [ 28,  29,  30,  31],\n",
       "         [ 32,  33,  34,  35],\n",
       "         [ 36,  37,  38,  39]],\n",
       "\n",
       "        [[ 40,  41,  42,  43],\n",
       "         [ 44,  45,  46,  47],\n",
       "         [ 48,  49,  50,  51],\n",
       "         [ 52,  53,  54,  55],\n",
       "         [ 56,  57,  58,  59]],\n",
       "\n",
       "        [[ 60,  61,  62,  63],\n",
       "         [ 64,  65,  66,  67],\n",
       "         [ 68,  69,  70,  71],\n",
       "         [ 72,  73,  74,  75],\n",
       "         [ 76,  77,  78,  79]],\n",
       "\n",
       "        [[ 80,  81,  82,  83],\n",
       "         [ 84,  85,  86,  87],\n",
       "         [ 88,  89,  90,  91],\n",
       "         [ 92,  93,  94,  95],\n",
       "         [ 96,  97,  98,  99]]],\n",
       "\n",
       "\n",
       "       [[[100, 101, 102, 103],\n",
       "         [104, 105, 106, 107],\n",
       "         [108, 109, 110, 111],\n",
       "         [112, 113, 114, 115],\n",
       "         [116, 117, 118, 119]],\n",
       "\n",
       "        [[120, 121, 122, 123],\n",
       "         [124, 125, 126, 127],\n",
       "         [128, 129, 130, 131],\n",
       "         [132, 133, 134, 135],\n",
       "         [136, 137, 138, 139]],\n",
       "\n",
       "        [[140, 141, 142, 143],\n",
       "         [144, 145, 146, 147],\n",
       "         [148, 149, 150, 151],\n",
       "         [152, 153, 154, 155],\n",
       "         [156, 157, 158, 159]],\n",
       "\n",
       "        [[160, 161, 162, 163],\n",
       "         [164, 165, 166, 167],\n",
       "         [168, 169, 170, 171],\n",
       "         [172, 173, 174, 175],\n",
       "         [176, 177, 178, 179]],\n",
       "\n",
       "        [[180, 181, 182, 183],\n",
       "         [184, 185, 186, 187],\n",
       "         [188, 189, 190, 191],\n",
       "         [192, 193, 194, 195],\n",
       "         [196, 197, 198, 199]]],\n",
       "\n",
       "\n",
       "       [[[200, 201, 202, 203],\n",
       "         [204, 205, 206, 207],\n",
       "         [208, 209, 210, 211],\n",
       "         [212, 213, 214, 215],\n",
       "         [216, 217, 218, 219]],\n",
       "\n",
       "        [[220, 221, 222, 223],\n",
       "         [224, 225, 226, 227],\n",
       "         [228, 229, 230, 231],\n",
       "         [232, 233, 234, 235],\n",
       "         [236, 237, 238, 239]],\n",
       "\n",
       "        [[240, 241, 242, 243],\n",
       "         [244, 245, 246, 247],\n",
       "         [248, 249, 250, 251],\n",
       "         [252, 253, 254, 255],\n",
       "         [256, 257, 258, 259]],\n",
       "\n",
       "        [[260, 261, 262, 263],\n",
       "         [264, 265, 266, 267],\n",
       "         [268, 269, 270, 271],\n",
       "         [272, 273, 274, 275],\n",
       "         [276, 277, 278, 279]],\n",
       "\n",
       "        [[280, 281, 282, 283],\n",
       "         [284, 285, 286, 287],\n",
       "         [288, 289, 290, 291],\n",
       "         [292, 293, 294, 295],\n",
       "         [296, 297, 298, 299]]],\n",
       "\n",
       "\n",
       "       [[[300, 301, 302, 303],\n",
       "         [304, 305, 306, 307],\n",
       "         [308, 309, 310, 311],\n",
       "         [312, 313, 314, 315],\n",
       "         [316, 317, 318, 319]],\n",
       "\n",
       "        [[320, 321, 322, 323],\n",
       "         [324, 325, 326, 327],\n",
       "         [328, 329, 330, 331],\n",
       "         [332, 333, 334, 335],\n",
       "         [336, 337, 338, 339]],\n",
       "\n",
       "        [[340, 341, 342, 343],\n",
       "         [344, 345, 346, 347],\n",
       "         [348, 349, 350, 351],\n",
       "         [352, 353, 354, 355],\n",
       "         [356, 357, 358, 359]],\n",
       "\n",
       "        [[360, 361, 362, 363],\n",
       "         [364, 365, 366, 367],\n",
       "         [368, 369, 370, 371],\n",
       "         [372, 373, 374, 375],\n",
       "         [376, 377, 378, 379]],\n",
       "\n",
       "        [[380, 381, 382, 383],\n",
       "         [384, 385, 386, 387],\n",
       "         [388, 389, 390, 391],\n",
       "         [392, 393, 394, 395],\n",
       "         [396, 397, 398, 399]]],\n",
       "\n",
       "\n",
       "       [[[400, 401, 402, 403],\n",
       "         [404, 405, 406, 407],\n",
       "         [408, 409, 410, 411],\n",
       "         [412, 413, 414, 415],\n",
       "         [416, 417, 418, 419]],\n",
       "\n",
       "        [[420, 421, 422, 423],\n",
       "         [424, 425, 426, 427],\n",
       "         [428, 429, 430, 431],\n",
       "         [432, 433, 434, 435],\n",
       "         [436, 437, 438, 439]],\n",
       "\n",
       "        [[440, 441, 442, 443],\n",
       "         [444, 445, 446, 447],\n",
       "         [448, 449, 450, 451],\n",
       "         [452, 453, 454, 455],\n",
       "         [456, 457, 458, 459]],\n",
       "\n",
       "        [[460, 461, 462, 463],\n",
       "         [464, 465, 466, 467],\n",
       "         [468, 469, 470, 471],\n",
       "         [472, 473, 474, 475],\n",
       "         [476, 477, 478, 479]],\n",
       "\n",
       "        [[480, 481, 482, 483],\n",
       "         [484, 485, 486, 487],\n",
       "         [488, 489, 490, 491],\n",
       "         [492, 493, 494, 495],\n",
       "         [496, 497, 498, 499]]]])"
      ]
     },
     "execution_count": 36,
     "metadata": {},
     "output_type": "execute_result"
    }
   ],
   "source": [
    "I=5\n",
    "J=5\n",
    "K=5\n",
    "NumElements = I*J*K*4\n",
    "Array = np.array(range(NumElements))\n",
    "#Array\n",
    "DataTensor = Array.reshape(I,J,K,4)\n",
    "DataTensor"
   ]
  }
 ],
 "metadata": {
  "kernelspec": {
   "display_name": "Python 3",
   "language": "python",
   "name": "python3"
  },
  "language_info": {
   "codemirror_mode": {
    "name": "ipython",
    "version": 3
   },
   "file_extension": ".py",
   "mimetype": "text/x-python",
   "name": "python",
   "nbconvert_exporter": "python",
   "pygments_lexer": "ipython3",
   "version": "3.5.1"
  }
 },
 "nbformat": 4,
 "nbformat_minor": 0
}
