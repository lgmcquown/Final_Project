{
 "cells": [
  {
   "cell_type": "code",
   "execution_count": 44,
   "metadata": {
    "collapsed": false
   },
   "outputs": [],
   "source": [
    "import numpy as np\n",
    "import scipy.constants as constants\n",
    "import scipy.integrate as integrate\n"
   ]
  },
  {
   "cell_type": "code",
   "execution_count": 45,
   "metadata": {
    "collapsed": false
   },
   "outputs": [],
   "source": [
    "class ChargedObject(object):\n",
    "    \n",
    "    def __init__(self, center):\n",
    "        self.c = center"
   ]
  },
  {
   "cell_type": "code",
   "execution_count": 46,
   "metadata": {
    "collapsed": false
   },
   "outputs": [],
   "source": [
    "#A =ChargedObject(np.array([5,4,3]))\n",
    "\n",
    "#A.c\n"
   ]
  },
  {
   "cell_type": "code",
   "execution_count": 47,
   "metadata": {
    "collapsed": false
   },
   "outputs": [],
   "source": [
    "#A=np.array([4,3])\n",
    "#B=np.array([5,12])\n",
    "\n",
    "#C= A+B\n",
    "#D= A-B\n",
    "\n",
    "#C,D"
   ]
  },
  {
   "cell_type": "code",
   "execution_count": 48,
   "metadata": {
    "collapsed": false
   },
   "outputs": [],
   "source": [
    "# Amag=np.linalg.norm(A)\n",
    "# Bmag=np.linalg.norm(B)\n",
    "# Cmag=np.linalg.norm(C)\n",
    "# Dmag=np.linalg.norm(D)\n",
    "\n",
    "\n",
    "# Amag**2, Bmag**2"
   ]
  },
  {
   "cell_type": "code",
   "execution_count": 68,
   "metadata": {
    "collapsed": false
   },
   "outputs": [],
   "source": [
    "class ChargedSphere(ChargedObject):\n",
    "\n",
    "        \n",
    "    def __init__(self,center,radius,distribution):\n",
    "        self.c = center\n",
    "        self.rad = radius\n",
    "        self.rho = distribution\n",
    "    \n",
    "            \n",
    "    def E_Sphere(self,x):\n",
    "        if np.linalg.norm(x-self.c) == 0:\n",
    "            raise ZeroDivisionError\n",
    "        if np.linalg.norm(x-self.c) < self.rad :\n",
    "            E_Field = (self.rho/constants.epsilon_0)*(np.linalg.norm(x-self.c)/3)\n",
    "        if np.linalg.norm(x-self.c) >= self.rad:\n",
    "            E_Field = (self.rho/constants.epsilon_0)*((self.rad**3)/(3*(np.linalg.norm(x-self.c)**2)))\n",
    "        \n",
    "        E_hat = (x-self.c)/np.linalg.norm(x-self.c)\n",
    "        \n",
    "        return E_Field*E_hat\n",
    "    \n",
    "    \n",
    "    def V_field(self,x):\n",
    "        V = 0\n",
    "        for num in range(3):\n",
    "            integrand = self.E_Sphere(x)[num]\n",
    "            V += integrate.quad(integrand,self.c[num],x[num], args = x)\n",
    "        return V\n",
    "            "
   ]
  },
  {
   "cell_type": "code",
   "execution_count": 69,
   "metadata": {
    "collapsed": false
   },
   "outputs": [
    {
     "data": {
      "text/plain": [
       "array([-376.46968892, -376.46968892, -376.46968892])"
      ]
     },
     "execution_count": 69,
     "metadata": {},
     "output_type": "execute_result"
    }
   ],
   "source": [
    "V = 0\n",
    "A = ChargedSphere(np.array([1,1,1]),2,.00000001)\n",
    "#A.c, A.rad, A.rho\n",
    "A.E_Sphere(np.array([0,0,0]))"
   ]
  },
  {
   "cell_type": "code",
   "execution_count": 70,
   "metadata": {
    "collapsed": false
   },
   "outputs": [
    {
     "ename": "error",
     "evalue": "quad: first argument is not callable",
     "output_type": "error",
     "traceback": [
      "\u001b[1;31m---------------------------------------------------------------------------\u001b[0m",
      "\u001b[1;31merror\u001b[0m                                     Traceback (most recent call last)",
      "\u001b[1;32m<ipython-input-70-fe25a879db18>\u001b[0m in \u001b[0;36m<module>\u001b[1;34m()\u001b[0m\n\u001b[1;32m----> 1\u001b[1;33m \u001b[0mA\u001b[0m\u001b[1;33m.\u001b[0m\u001b[0mV_field\u001b[0m\u001b[1;33m(\u001b[0m\u001b[0mnp\u001b[0m\u001b[1;33m.\u001b[0m\u001b[0marray\u001b[0m\u001b[1;33m(\u001b[0m\u001b[1;33m[\u001b[0m\u001b[1;36m0\u001b[0m\u001b[1;33m,\u001b[0m\u001b[1;36m0\u001b[0m\u001b[1;33m,\u001b[0m\u001b[1;36m0\u001b[0m\u001b[1;33m]\u001b[0m\u001b[1;33m)\u001b[0m\u001b[1;33m)\u001b[0m\u001b[1;33m\u001b[0m\u001b[0m\n\u001b[0m",
      "\u001b[1;32m<ipython-input-68-adf02b27d294>\u001b[0m in \u001b[0;36mV_field\u001b[1;34m(self, x)\u001b[0m\n\u001b[0;32m     25\u001b[0m         \u001b[1;32mfor\u001b[0m \u001b[0mnum\u001b[0m \u001b[1;32min\u001b[0m \u001b[0mrange\u001b[0m\u001b[1;33m(\u001b[0m\u001b[1;36m3\u001b[0m\u001b[1;33m)\u001b[0m\u001b[1;33m:\u001b[0m\u001b[1;33m\u001b[0m\u001b[0m\n\u001b[0;32m     26\u001b[0m             \u001b[0mintegrand\u001b[0m \u001b[1;33m=\u001b[0m \u001b[0mself\u001b[0m\u001b[1;33m.\u001b[0m\u001b[0mE_Sphere\u001b[0m\u001b[1;33m(\u001b[0m\u001b[0mx\u001b[0m\u001b[1;33m)\u001b[0m\u001b[1;33m[\u001b[0m\u001b[0mnum\u001b[0m\u001b[1;33m]\u001b[0m\u001b[1;33m\u001b[0m\u001b[0m\n\u001b[1;32m---> 27\u001b[1;33m             \u001b[0mV\u001b[0m \u001b[1;33m+=\u001b[0m \u001b[0mintegrate\u001b[0m\u001b[1;33m.\u001b[0m\u001b[0mquad\u001b[0m\u001b[1;33m(\u001b[0m\u001b[0mintegrand\u001b[0m\u001b[1;33m,\u001b[0m\u001b[0mself\u001b[0m\u001b[1;33m.\u001b[0m\u001b[0mc\u001b[0m\u001b[1;33m[\u001b[0m\u001b[0mnum\u001b[0m\u001b[1;33m]\u001b[0m\u001b[1;33m,\u001b[0m\u001b[0mx\u001b[0m\u001b[1;33m[\u001b[0m\u001b[0mnum\u001b[0m\u001b[1;33m]\u001b[0m\u001b[1;33m,\u001b[0m \u001b[0margs\u001b[0m \u001b[1;33m=\u001b[0m \u001b[0mx\u001b[0m\u001b[1;33m)\u001b[0m\u001b[1;33m\u001b[0m\u001b[0m\n\u001b[0m\u001b[0;32m     28\u001b[0m         \u001b[1;32mreturn\u001b[0m \u001b[0mV\u001b[0m\u001b[1;33m\u001b[0m\u001b[0m\n\u001b[0;32m     29\u001b[0m \u001b[1;33m\u001b[0m\u001b[0m\n",
      "\u001b[1;32m/userspace/l/lgmcquown/miniconda3/lib/python3.5/site-packages/scipy/integrate/quadpack.py\u001b[0m in \u001b[0;36mquad\u001b[1;34m(func, a, b, args, full_output, epsabs, epsrel, limit, points, weight, wvar, wopts, maxp1, limlst)\u001b[0m\n\u001b[0;32m    314\u001b[0m     \u001b[1;32mif\u001b[0m \u001b[1;33m(\u001b[0m\u001b[0mweight\u001b[0m \u001b[1;32mis\u001b[0m \u001b[1;32mNone\u001b[0m\u001b[1;33m)\u001b[0m\u001b[1;33m:\u001b[0m\u001b[1;33m\u001b[0m\u001b[0m\n\u001b[0;32m    315\u001b[0m         retval = _quad(func, a, b, args, full_output, epsabs, epsrel, limit,\n\u001b[1;32m--> 316\u001b[1;33m                        points)\n\u001b[0m\u001b[0;32m    317\u001b[0m     \u001b[1;32melse\u001b[0m\u001b[1;33m:\u001b[0m\u001b[1;33m\u001b[0m\u001b[0m\n\u001b[0;32m    318\u001b[0m         retval = _quad_weight(func, a, b, args, full_output, epsabs, epsrel,\n",
      "\u001b[1;32m/userspace/l/lgmcquown/miniconda3/lib/python3.5/site-packages/scipy/integrate/quadpack.py\u001b[0m in \u001b[0;36m_quad\u001b[1;34m(func, a, b, args, full_output, epsabs, epsrel, limit, points)\u001b[0m\n\u001b[0;32m    379\u001b[0m     \u001b[1;32mif\u001b[0m \u001b[0mpoints\u001b[0m \u001b[1;32mis\u001b[0m \u001b[1;32mNone\u001b[0m\u001b[1;33m:\u001b[0m\u001b[1;33m\u001b[0m\u001b[0m\n\u001b[0;32m    380\u001b[0m         \u001b[1;32mif\u001b[0m \u001b[0minfbounds\u001b[0m \u001b[1;33m==\u001b[0m \u001b[1;36m0\u001b[0m\u001b[1;33m:\u001b[0m\u001b[1;33m\u001b[0m\u001b[0m\n\u001b[1;32m--> 381\u001b[1;33m             \u001b[1;32mreturn\u001b[0m \u001b[0m_quadpack\u001b[0m\u001b[1;33m.\u001b[0m\u001b[0m_qagse\u001b[0m\u001b[1;33m(\u001b[0m\u001b[0mfunc\u001b[0m\u001b[1;33m,\u001b[0m\u001b[0ma\u001b[0m\u001b[1;33m,\u001b[0m\u001b[0mb\u001b[0m\u001b[1;33m,\u001b[0m\u001b[0margs\u001b[0m\u001b[1;33m,\u001b[0m\u001b[0mfull_output\u001b[0m\u001b[1;33m,\u001b[0m\u001b[0mepsabs\u001b[0m\u001b[1;33m,\u001b[0m\u001b[0mepsrel\u001b[0m\u001b[1;33m,\u001b[0m\u001b[0mlimit\u001b[0m\u001b[1;33m)\u001b[0m\u001b[1;33m\u001b[0m\u001b[0m\n\u001b[0m\u001b[0;32m    382\u001b[0m         \u001b[1;32melse\u001b[0m\u001b[1;33m:\u001b[0m\u001b[1;33m\u001b[0m\u001b[0m\n\u001b[0;32m    383\u001b[0m             \u001b[1;32mreturn\u001b[0m \u001b[0m_quadpack\u001b[0m\u001b[1;33m.\u001b[0m\u001b[0m_qagie\u001b[0m\u001b[1;33m(\u001b[0m\u001b[0mfunc\u001b[0m\u001b[1;33m,\u001b[0m\u001b[0mbound\u001b[0m\u001b[1;33m,\u001b[0m\u001b[0minfbounds\u001b[0m\u001b[1;33m,\u001b[0m\u001b[0margs\u001b[0m\u001b[1;33m,\u001b[0m\u001b[0mfull_output\u001b[0m\u001b[1;33m,\u001b[0m\u001b[0mepsabs\u001b[0m\u001b[1;33m,\u001b[0m\u001b[0mepsrel\u001b[0m\u001b[1;33m,\u001b[0m\u001b[0mlimit\u001b[0m\u001b[1;33m)\u001b[0m\u001b[1;33m\u001b[0m\u001b[0m\n",
      "\u001b[1;31merror\u001b[0m: quad: first argument is not callable"
     ]
    }
   ],
   "source": [
    "A.V_field(np.array([0,0,0]))\n"
   ]
  },
  {
   "cell_type": "code",
   "execution_count": 10,
   "metadata": {
    "collapsed": true
   },
   "outputs": [],
   "source": [
    "class ChargedSphereShell(ChargedObject):\n",
    "    \n",
    "    def __init__(self,center,radius,distribution):\n",
    "        self.c = center\n",
    "        self.rad = radius\n",
    "        self.sigma = distribution\n",
    "        \n",
    "                \n",
    "    def E_Sphere_Shell(self,x):\n",
    "        if np.linalg.norm(x-self.c) < self.rad :\n",
    "            E_Field = 0\n",
    "        if np.linalg.norm(x-self.c) >= self.rad:\n",
    "            E_Field = (self.sigma/constants.epsilon_0)*((self.rad**2)/((np.linalg.norm(x-self.c)**2)))\n",
    "        \n",
    "        E_hat = (x-self.c)/np.linalg.norm(x-self.c)\n",
    "        \n",
    "        return E_Field*E_hat"
   ]
  },
  {
   "cell_type": "code",
   "execution_count": 11,
   "metadata": {
    "collapsed": false
   },
   "outputs": [
    {
     "data": {
      "text/plain": [
       "array([ 808.13934326,    0.        , -404.06967163])"
      ]
     },
     "execution_count": 11,
     "metadata": {},
     "output_type": "execute_result"
    }
   ],
   "source": [
    "# B = ChargedSphereShell(np.array([1,1,1]),2,.00000001)\n",
    "# B.E_Sphere_Shell(np.array([3,1,0]))"
   ]
  },
  {
   "cell_type": "code",
   "execution_count": 35,
   "metadata": {
    "collapsed": false
   },
   "outputs": [],
   "source": [
    "class ChargedCylinderShell(ChargedObject):\n",
    "    def __init__(self, center, axis, radius, distribution):\n",
    "        self.c = center\n",
    "        self.axis = axis\n",
    "        self.rad = radius\n",
    "        self.sigma = distribution\n",
    "\n",
    "        \n",
    "    def E_Cylinder_Shell(self,x):\n",
    "        axis_hat = self.axis/np.linalg.norm(self.axis)\n",
    "        r_vec = x-self.c\n",
    "        r_parallel = np.dot(axis_hat,r_vec)\n",
    "        E_not_hat = (r_vec - (axis_hat*r_parallel))\n",
    "        E_hat = E_not_hat/np.linalg.norm(E_not_hat)\n",
    "        r_perp = np.linalg.norm(np.cross(axis_hat,r_vec))\n",
    "        \n",
    "        if r_perp <= self.rad :\n",
    "            E_Field = 0\n",
    "        if r_perp > self.rad:\n",
    "            E_Field = (self.sigma/constants.epsilon_0)*((self.rad)/((r_perp)))\n",
    "         \n",
    "        \n",
    "        return E_Field*E_hat"
   ]
  },
  {
   "cell_type": "code",
   "execution_count": 40,
   "metadata": {
    "collapsed": false
   },
   "outputs": [
    {
     "data": {
      "text/plain": [
       "array([ 0., -0.,  0.])"
      ]
     },
     "execution_count": 40,
     "metadata": {},
     "output_type": "execute_result"
    }
   ],
   "source": [
    "# C = ChargedCylinderShell(np.array([0,0,0]), np.array([1,1,0]),1,.000000001)\n",
    "# C.E_Cylinder_Shell(np.array([5,4,0]))"
   ]
  },
  {
   "cell_type": "code",
   "execution_count": 41,
   "metadata": {
    "collapsed": true
   },
   "outputs": [],
   "source": [
    "class ChargedCylinder(ChargedObject):\n",
    "    \n",
    "    def __init__(self,center, axis, radius, distribution) :\n",
    "        self.c = center\n",
    "        self.rad = radius\n",
    "        self.axis = axis\n",
    "        self.sigma = sigma\n",
    "                \n",
    "    def E_Cylinder(self,x):\n",
    "        axis_hat = self.axis/np.linalg.norm(self.axis)\n",
    "        r_vec = x-self.c\n",
    "        r_parallel = np.dot(axis_hat,r_vec)\n",
    "        E_not_hat = (r_vec - (axis_hat*r_parallel))\n",
    "        E_hat = E_not_hat/np.linalg.norm(E_not_hat)\n",
    "        r_perp = np.linalg.norm(np.cross(axis_hat,r_vec))\n",
    "        \n",
    "        if r_perp <= self.rad :\n",
    "            E_Field = (self.rho/constants.epsilon_0)*(r_perp/2)\n",
    "        if r_perp > self.rad:\n",
    "            E_Field = (self.rho/constants.epsilon_0)*((self.rad**2)/(2*r_perp))\n",
    "        \n",
    "\n",
    "        E_hat = r_vec - (axis_hat*r_parallel)\n",
    "        \n",
    "        return E_Field*E_hat\n",
    "    "
   ]
  },
  {
   "cell_type": "code",
   "execution_count": 42,
   "metadata": {
    "collapsed": false
   },
   "outputs": [
    {
     "data": {
      "text/plain": [
       "array([ 0.,  0.,  0.])"
      ]
     },
     "execution_count": 42,
     "metadata": {},
     "output_type": "execute_result"
    }
   ],
   "source": [
    "# D = ChargedCylinderShell(np.array([0,0,0]), np.array([1,0,0]),2,.000000001)\n",
    "# D.E_Cylinder_Shell(np.array([1,1,0]))"
   ]
  },
  {
   "cell_type": "code",
   "execution_count": 43,
   "metadata": {
    "collapsed": false
   },
   "outputs": [],
   "source": [
    "class ChargedPlane(ChargedObject):\n",
    "    \n",
    "    def __init__(self,center, distribution,normal):\n",
    "        class Infinite_Plane(object):\n",
    "    \n",
    "            self.normal = normal\n",
    "            self.sigma = distribution\n",
    "            self.c = center\n",
    "        \n",
    "        \n",
    "    def E_Plane(self,sigma):\n",
    "        E_Field = self.sigma/(2*constants.epsilon_0)\n",
    "        \n",
    "        E_hat = self.normal/np.linalg.norm(self.normal)\n",
    "        \n",
    "        return E_Field*E_hat\n",
    "        "
   ]
  }
 ],
 "metadata": {
  "kernelspec": {
   "display_name": "Python 3",
   "language": "python",
   "name": "python3"
  },
  "language_info": {
   "codemirror_mode": {
    "name": "ipython",
    "version": 3
   },
   "file_extension": ".py",
   "mimetype": "text/x-python",
   "name": "python",
   "nbconvert_exporter": "python",
   "pygments_lexer": "ipython3",
   "version": "3.5.1"
  }
 },
 "nbformat": 4,
 "nbformat_minor": 0
}
