{
 "cells": [
  {
   "cell_type": "code",
   "execution_count": 1,
   "metadata": {
    "collapsed": false
   },
   "outputs": [],
   "source": [
    "import numpy as np\n",
    "import scipy.constants as constants\n",
    "import math\n"
   ]
  },
  {
   "cell_type": "code",
   "execution_count": 2,
   "metadata": {
    "collapsed": false
   },
   "outputs": [],
   "source": [
    "class ChargedObject(object):\n",
    "    \n",
    "    def __init__(self, center):\n",
    "        self.c = center"
   ]
  },
  {
   "cell_type": "code",
   "execution_count": 3,
   "metadata": {
    "collapsed": false
   },
   "outputs": [],
   "source": [
    "#A =ChargedObject(np.array([5,4,3]))\n",
    "\n",
    "#A.c\n"
   ]
  },
  {
   "cell_type": "code",
   "execution_count": 4,
   "metadata": {
    "collapsed": false
   },
   "outputs": [],
   "source": [
    "#A=np.array([4,3])\n",
    "#B=np.array([5,12])\n",
    "\n",
    "#C= A+B\n",
    "#D= A-B\n",
    "\n",
    "#C,D"
   ]
  },
  {
   "cell_type": "code",
   "execution_count": 5,
   "metadata": {
    "collapsed": false
   },
   "outputs": [],
   "source": [
    "# Amag=np.linalg.norm(A)\n",
    "# Bmag=np.linalg.norm(B)\n",
    "# Cmag=np.linalg.norm(C)\n",
    "# Dmag=np.linalg.norm(D)\n",
    "\n",
    "\n",
    "# Amag**2, Bmag**2"
   ]
  },
  {
   "cell_type": "code",
   "execution_count": 6,
   "metadata": {
    "collapsed": false
   },
   "outputs": [],
   "source": [
    "class ChargedSphere(ChargedObject):\n",
    "\n",
    "        \n",
    "    def __init__(self,center,radius,distribution):\n",
    "        self.c = center\n",
    "        self.rad = radius\n",
    "        self.rho = distribution\n",
    "    \n",
    "            \n",
    "    def E(self,x):\n",
    "        if np.linalg.norm(x-self.c) == 0:\n",
    "            raise ZeroDivisionError\n",
    "        if np.linalg.norm(x-self.c) < self.rad :\n",
    "            E_Field = (self.rho/constants.epsilon_0)*(np.linalg.norm(x-self.c)/3)\n",
    "        if np.linalg.norm(x-self.c) >= self.rad:\n",
    "            E_Field = (self.rho/constants.epsilon_0)*((self.rad**3)/(3*(np.linalg.norm(x-self.c)**2)))\n",
    "        \n",
    "        E_hat = (x-self.c)/np.linalg.norm(x-self.c)\n",
    "        \n",
    "        return E_Field*E_hat\n",
    "    \n",
    "    def V(self,x):\n",
    "        if np.linalg.norm(x-self.c) == 0:\n",
    "            raise ZeroDivisionError\n",
    "        if np.linalg.norm(x-self.c) < self.rad :\n",
    "            V = -(self.rho/6*constants.epsilon_0)*(3 - ((np.linalg.norm(x-self.c)**2)/self.rad**2))\n",
    "        if np.linalg.norm(x-self.c) >= self.rad:\n",
    "            V = -(self.rho*((self.rad)^3)/((3*constants.epsilon_0)*(np.linalg.norm(x-self.c))))         \n",
    "        return V    "
   ]
  },
  {
   "cell_type": "code",
   "execution_count": 7,
   "metadata": {
    "collapsed": false
   },
   "outputs": [
    {
     "data": {
      "text/plain": [
       "array([  0.        ,   2.83968386,  14.19841931])"
      ]
     },
     "execution_count": 7,
     "metadata": {},
     "output_type": "execute_result"
    }
   ],
   "source": [
    "V = 0\n",
    "A = ChargedSphere(np.array([0,0,0]),1,.00000001)\n",
    "#A.c, A.rad, A.rho\n",
    "A.E(np.array([0,1,5]))"
   ]
  },
  {
   "cell_type": "code",
   "execution_count": 8,
   "metadata": {
    "collapsed": false
   },
   "outputs": [
    {
     "data": {
      "text/plain": [
       "-752.93937783876481"
      ]
     },
     "execution_count": 8,
     "metadata": {},
     "output_type": "execute_result"
    }
   ],
   "source": [
    "A.V(np.array([0,0,1]))\n"
   ]
  },
  {
   "cell_type": "code",
   "execution_count": 9,
   "metadata": {
    "collapsed": true
   },
   "outputs": [],
   "source": [
    "class ChargedSphereShell(ChargedObject):\n",
    "    \n",
    "    def __init__(self,center,radius,distribution):\n",
    "        self.c = center\n",
    "        self.rad = radius\n",
    "        self.sigma = distribution\n",
    "        \n",
    "                \n",
    "    def E(self,x):\n",
    "        if np.linalg.norm(x-self.c) < self.rad :\n",
    "            E_Field = 0\n",
    "        if np.linalg.norm(x-self.c) >= self.rad:\n",
    "            E_Field = (self.sigma/constants.epsilon_0)*((self.rad**2)/((np.linalg.norm(x-self.c)**2)))\n",
    "        \n",
    "        E_hat = (x-self.c)/np.linalg.norm(x-self.c)\n",
    "        return E_Field*E_hat\n",
    "        \n",
    "    def V(self,x):\n",
    "        if np.linalg.norm(x-self.c) == 0:\n",
    "            raise ZeroDivisionError\n",
    "        if np.linalg.norm(x-self.c) < self.rad :\n",
    "            V = -(self.sigma/6*constants.epsilon_0)*(3 - ((np.linalg.norm(x-self.c)**2)/self.rad**2))\n",
    "        if np.linalg.norm(x-self.c) >= self.rad:\n",
    "            V = -(self.sigma*((self.rad)^3)/((3*constants.epsilon_0)*(np.linalg.norm(x-self.c))))         \n",
    "        return V"
   ]
  },
  {
   "cell_type": "code",
   "execution_count": 10,
   "metadata": {
    "collapsed": false
   },
   "outputs": [
    {
     "data": {
      "text/plain": [
       "-336.72472635677536"
      ]
     },
     "execution_count": 10,
     "metadata": {},
     "output_type": "execute_result"
    }
   ],
   "source": [
    "B = ChargedSphereShell(np.array([1,0,0]),1,.00000001)\n",
    "B.V(np.array([3,1,0]))"
   ]
  },
  {
   "cell_type": "code",
   "execution_count": null,
   "metadata": {
    "collapsed": true
   },
   "outputs": [],
   "source": []
  },
  {
   "cell_type": "code",
   "execution_count": 11,
   "metadata": {
    "collapsed": false
   },
   "outputs": [],
   "source": [
    "class ChargedCylinder(ChargedObject):\n",
    "\n",
    "    def __init__(self,center, axis, radius, distribution) :\n",
    "        self.c = center\n",
    "        self.rad = radius\n",
    "        self.axis = axis\n",
    "        self.rho = distribution\n",
    "\n",
    "    def E(self,x):\n",
    "        axis_hat = self.axis/np.linalg.norm(self.axis)\n",
    "        r_vec = x-self.c\n",
    "        r_parallel = np.dot(axis_hat,r_vec)\n",
    "        E_not_hat = (r_vec - (axis_hat*r_parallel))\n",
    "        E_hat = E_not_hat/np.linalg.norm(E_not_hat)\n",
    "        r_perp = np.linalg.norm(np.cross(axis_hat,r_vec))\n",
    "        E_hat = r_vec - (axis_hat*r_parallel)\n",
    "\n",
    "\n",
    "        if r_perp == 0:\n",
    "            E_field = 0\n",
    "        if 0 < r_perp <= self.rad:\n",
    "            E_Field = (self.rho/constants.epsilon_0)*(r_perp/2)\n",
    "        if r_perp > self.rad:\n",
    "            E_Field = (self.rho/constants.epsilon_0)*((self.rad**2)/(2*r_perp))\n",
    "\n",
    "\n",
    "        return E_Field*E_hat\n",
    "\n",
    "    \n",
    "    def V(self,x):\n",
    "        axis_hat = self.axis/np.linalg.norm(self.axis)\n",
    "        r_vec = x-self.c\n",
    "        r_parallel = np.dot(axis_hat,r_vec)\n",
    "        E_not_hat = (r_vec - (axis_hat*r_parallel))\n",
    "        E_hat = E_not_hat/np.linalg.norm(E_not_hat)\n",
    "        r_perp = np.linalg.norm(np.cross(axis_hat,r_vec))\n",
    "        \n",
    "        if r_perp <= self.rad :\n",
    "            V_field = 0\n",
    "        if r_perp > self.rad :\n",
    "            V_field = -(self.rho*self.rad/constants.epsilon_0)*math.log(r_perp/self.rad)\n",
    "            \n",
    "        return V_field"
   ]
  },
  {
   "cell_type": "code",
   "execution_count": 12,
   "metadata": {
    "collapsed": false
   },
   "outputs": [
    {
     "data": {
      "text/plain": [
       "-181.7713770687378"
      ]
     },
     "execution_count": 12,
     "metadata": {},
     "output_type": "execute_result"
    }
   ],
   "source": [
    "C = ChargedCylinder(np.array([0,-1,0]), np.array([0,1,0]),1,.000000001)\n",
    "C.V(np.array([5,4,0]))"
   ]
  },
  {
   "cell_type": "code",
   "execution_count": 13,
   "metadata": {
    "collapsed": false
   },
   "outputs": [],
   "source": [
    "class ChargedCylinder(ChargedObject):\n",
    "    \n",
    "    def __init__(self,center, axis, radius, distribution) :\n",
    "        self.c = center\n",
    "        self.rad = radius\n",
    "        self.axis = axis\n",
    "        self.rho = distribution\n",
    "\n",
    "    def E(self,x):\n",
    "        axis_hat = self.axis/np.linalg.norm(self.axis)\n",
    "        r_vec = x-self.c\n",
    "        r_parallel = np.dot(axis_hat,r_vec)\n",
    "        E_not_hat = (r_vec - (axis_hat*r_parallel))\n",
    "        E_hat = E_not_hat/np.linalg.norm(E_not_hat)\n",
    "        \n",
    "        r_perp = np.linalg.norm(np.cross(axis_hat,r_vec))\n",
    "        if r_perp == 0 :\n",
    "            return np.array([0,0,0])\n",
    "        if 0 < r_perp <= self.rad :\n",
    "            E_Field = (self.rho/constants.epsilon_0)*(r_perp/2)\n",
    "        if r_perp > self.rad :\n",
    "            E_Field = (self.rho/constants.epsilon_0)*((self.rad**2)/(2*r_perp))\n",
    "        \n",
    "        return E_Field*E_hat\n",
    "    \n",
    "    def V(self,x):\n",
    "        axis_hat = self.axis/np.linalg.norm(self.axis)\n",
    "        r_vec = x-self.c\n",
    "        r_parallel = np.dot(axis_hat,r_vec)\n",
    "        E_not_hat = (r_vec - (axis_hat*r_parallel))\n",
    "        E_hat = E_not_hat/np.linalg.norm(E_not_hat)\n",
    "        r_perp = np.linalg.norm(np.cross(axis_hat,r_vec))\n",
    "        \n",
    "        \n",
    "        if 0 == r_perp:\n",
    "            V_field = 0\n",
    "        if 0 < r_perp <= self.rad:\n",
    "            V_field = -(self.rho/4*constants.epsilon_0)*((r_perp)^2)\n",
    "        if r_perp > self.rad:\n",
    "            V_field = -(self.rho/(2*constants.epsilon_0))*((self.rho**2))*math.log(r_perp/self.rad)\n",
    "        return V_field        \n"
   ]
  },
  {
   "cell_type": "code",
   "execution_count": 51,
   "metadata": {
    "collapsed": false
   },
   "outputs": [
    {
     "name": "stderr",
     "output_type": "stream",
     "text": [
      "/userspace/l/lgmcquown/miniconda3/lib/python3.5/site-packages/ipykernel/__main__.py:14: RuntimeWarning: invalid value encountered in true_divide\n"
     ]
    },
    {
     "data": {
      "text/plain": [
       "array([0, 0, 0])"
      ]
     },
     "execution_count": 51,
     "metadata": {},
     "output_type": "execute_result"
    }
   ],
   "source": [
    "D = ChargedCylinder(np.array([0,0,0]), np.array([0,0,1]),1,.000000001)\n",
    "D.E(np.array([0,0,1]))"
   ]
  },
  {
   "cell_type": "code",
   "execution_count": 62,
   "metadata": {
    "collapsed": false
   },
   "outputs": [],
   "source": [
    "class ChargedPlane(ChargedObject):\n",
    "    \n",
    "    def __init__(self,center, distribution,normal):\n",
    "        class Infinite_Plane(object):\n",
    "    \n",
    "            self.normal = normal\n",
    "            self.sigma = distribution\n",
    "            self.c = center\n",
    "                \n",
    "    def E(self,x):\n",
    "        E_Field = self.sigma/(2*constants.epsilon_0)\n",
    "        if np.dot(x-self.c,self.normal) == 0:\n",
    "            E_hat = np.array([0,0,0])\n",
    "        if np.dot(x-self.c,self.normal) > 0:\n",
    "            E_hat = self.normal/np.linalg.norm(self.normal)\n",
    "        if np.dot(x-self.c,self.normal) < 0:\n",
    "            E_hat = -self.normal/np.linalg.norm(self.normal)\n",
    "        return E_Field*E_hat\n",
    "        \n",
    "    def V(self,x):\n",
    "        r_vec = (x -self.c)\n",
    "        perp_distance = np.dot(self.normal,r_vec)\n",
    "        V_field = -np.linalg.norm(self.E(x))*perp_distance\n",
    "        return V_field"
   ]
  },
  {
   "cell_type": "code",
   "execution_count": 61,
   "metadata": {
    "collapsed": false
   },
   "outputs": [
    {
     "data": {
      "text/plain": [
       "array([-0.05647045,  0.        ,  0.        ])"
      ]
     },
     "execution_count": 61,
     "metadata": {},
     "output_type": "execute_result"
    }
   ],
   "source": [
    "J = ChargedPlane(np.array([0,0,0]),.000000000001,np.array([1,0,0]))\n",
    "J.E(np.array([-1,0,0]))\n"
   ]
  },
  {
   "cell_type": "code",
   "execution_count": 29,
   "metadata": {
    "collapsed": true
   },
   "outputs": [],
   "source": [
    "List_of_objects = [A,B,C,D,J]"
   ]
  },
  {
   "cell_type": "code",
   "execution_count": 30,
   "metadata": {
    "collapsed": false
   },
   "outputs": [],
   "source": [
    "Total_E = 0\n",
    "for obj in List_of_objects:\n",
    "    Total_E += obj.E(np.array([7,2,1]))\n",
    "    "
   ]
  },
  {
   "cell_type": "code",
   "execution_count": 31,
   "metadata": {
    "collapsed": false
   },
   "outputs": [
    {
     "data": {
      "text/plain": [
       "array([ 95.87109093,  12.63250689,  13.23690129])"
      ]
     },
     "execution_count": 31,
     "metadata": {},
     "output_type": "execute_result"
    }
   ],
   "source": [
    "Total_E"
   ]
  },
  {
   "cell_type": "code",
   "execution_count": 32,
   "metadata": {
    "collapsed": true
   },
   "outputs": [],
   "source": [
    "#write a page or two to tell where the math comes from"
   ]
  },
  {
   "cell_type": "code",
   "execution_count": 33,
   "metadata": {
    "collapsed": false
   },
   "outputs": [],
   "source": [
    "def E_Superposition(List_of_objects,x):\n",
    "    Total_E = 0\n",
    "    for obj in List_of_objects:\n",
    "        Total_E += obj.E(x)\n",
    "    return Total_E"
   ]
  },
  {
   "cell_type": "code",
   "execution_count": 34,
   "metadata": {
    "collapsed": false
   },
   "outputs": [
    {
     "data": {
      "text/plain": [
       "array([ 95.87109093,  12.63250689,  13.23690129])"
      ]
     },
     "execution_count": 34,
     "metadata": {},
     "output_type": "execute_result"
    }
   ],
   "source": [
    "EFIELD = E_Superposition(List_of_objects, np.array([7,2,1]))\n",
    "EFIELD"
   ]
  },
  {
   "cell_type": "code",
   "execution_count": 35,
   "metadata": {
    "collapsed": true
   },
   "outputs": [],
   "source": [
    "def V_Superposition(List_of_objects,x):\n",
    "    Total_V = 0\n",
    "    for obj in List_of_objects:\n",
    "        Total_V += obj.V(x)\n",
    "    return Total_V"
   ]
  },
  {
   "cell_type": "code",
   "execution_count": 63,
   "metadata": {
    "collapsed": false
   },
   "outputs": [
    {
     "data": {
      "text/plain": [
       "-386.39946348053508"
      ]
     },
     "execution_count": 63,
     "metadata": {},
     "output_type": "execute_result"
    }
   ],
   "source": [
    "VFIELD = V_Superposition(List_of_objects, np.array([7,7,7]))\n",
    "VFIELD"
   ]
  },
  {
   "cell_type": "code",
   "execution_count": 64,
   "metadata": {
    "collapsed": false
   },
   "outputs": [
    {
     "ename": "SyntaxError",
     "evalue": "invalid syntax (<ipython-input-64-66e4ad3d600e>, line 2)",
     "output_type": "error",
     "traceback": [
      "\u001b[1;36m  File \u001b[1;32m\"<ipython-input-64-66e4ad3d600e>\"\u001b[1;36m, line \u001b[1;32m2\u001b[0m\n\u001b[1;33m    for x in\u001b[0m\n\u001b[1;37m             ^\u001b[0m\n\u001b[1;31mSyntaxError\u001b[0m\u001b[1;31m:\u001b[0m invalid syntax\n"
     ]
    }
   ],
   "source": [
    "def SweepE(x_range,y_range,z_range):\n",
    "    for x in list(range(x_range)):\n",
    "        for y in list(range(y_range)):\n",
    "            for z in list(range(z_range)):\n",
    "                E_Superposition(x,y,z)"
   ]
  },
  {
   "cell_type": "code",
   "execution_count": 68,
   "metadata": {
    "collapsed": false
   },
   "outputs": [
    {
     "data": {
      "text/plain": [
       "[-2, -1, 0, 1, 2, 3, 4, 5, 6]"
      ]
     },
     "execution_count": 68,
     "metadata": {},
     "output_type": "execute_result"
    }
   ],
   "source": [
    "list(range(-2,7))"
   ]
  }
 ],
 "metadata": {
  "kernelspec": {
   "display_name": "Python 3",
   "language": "python",
   "name": "python3"
  },
  "language_info": {
   "codemirror_mode": {
    "name": "ipython",
    "version": 3
   },
   "file_extension": ".py",
   "mimetype": "text/x-python",
   "name": "python",
   "nbconvert_exporter": "python",
   "pygments_lexer": "ipython3",
   "version": "3.5.1"
  }
 },
 "nbformat": 4,
 "nbformat_minor": 0
}
