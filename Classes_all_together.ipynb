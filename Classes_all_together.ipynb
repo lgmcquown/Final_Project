{
 "cells": [
  {
   "cell_type": "code",
   "execution_count": 2,
   "metadata": {
    "collapsed": false
   },
   "outputs": [],
   "source": [
    "import numpy as np"
   ]
  },
  {
   "cell_type": "code",
   "execution_count": 3,
   "metadata": {
    "collapsed": false
   },
   "outputs": [],
   "source": [
    "class ChargedObject(object):\n",
    "    \n",
    "    def __init__(self, center):\n",
    "        self.c = center"
   ]
  },
  {
   "cell_type": "code",
   "execution_count": 4,
   "metadata": {
    "collapsed": false
   },
   "outputs": [
    {
     "data": {
      "text/plain": [
       "array([5, 4, 3])"
      ]
     },
     "execution_count": 4,
     "metadata": {},
     "output_type": "execute_result"
    }
   ],
   "source": [
    "A =ChargedObject(np.array([5,4,3]))\n",
    "\n",
    "A.c\n"
   ]
  },
  {
   "cell_type": "code",
   "execution_count": 5,
   "metadata": {
    "collapsed": false
   },
   "outputs": [
    {
     "data": {
      "text/plain": [
       "(array([ 9, 15]), array([-1, -9]))"
      ]
     },
     "execution_count": 5,
     "metadata": {},
     "output_type": "execute_result"
    }
   ],
   "source": [
    "A=np.array([4,3])\n",
    "B=np.array([5,12])\n",
    "\n",
    "C= A+B\n",
    "D= A-B\n",
    "\n",
    "C,D"
   ]
  },
  {
   "cell_type": "code",
   "execution_count": 6,
   "metadata": {
    "collapsed": false
   },
   "outputs": [
    {
     "data": {
      "text/plain": [
       "(25.0, 169.0)"
      ]
     },
     "execution_count": 6,
     "metadata": {},
     "output_type": "execute_result"
    }
   ],
   "source": [
    "Amag=np.linalg.norm(A)\n",
    "Bmag=np.linalg.norm(B)\n",
    "Cmag=np.linalg.norm(C)\n",
    "Dmag=np.linalg.norm(D)\n",
    "\n",
    "\n",
    "Amag**2, Bmag**2"
   ]
  },
  {
   "cell_type": "code",
   "execution_count": 7,
   "metadata": {
    "collapsed": false
   },
   "outputs": [],
   "source": [
    "class ChargedSphere(ChargedObject):\n",
    "\n",
    "        \n",
    "    def __init__(self,center,radius,distribution,POI):\n",
    "        self.c = center\n",
    "        self.rad = radius\n",
    "        self.rho = distribution\n",
    "        self.x = POI\n",
    "    \n",
    "            \n",
    "    def E_Sphere(self,POI):\n",
    "        if np.linalg.norm(x-c) == 0:\n",
    "            raise ZeroDivisionError\n",
    "        if np.linalg.norm(x-c) < R :\n",
    "            E_Field = (rho/constants.epsilon_0)*(np.linalg.norm(x-c)/3)\n",
    "        if np.linalg.norm(x-c) >= R:\n",
    "            E_Field = (rho/constants.epsilon_0)*((rad**3)/(3*(np.linalg.norm(x-c)**2)))\n",
    "        return E_Field\n",
    "    #E_sphere(self)"
   ]
  },
  {
   "cell_type": "code",
   "execution_count": 8,
   "metadata": {
    "collapsed": false
   },
   "outputs": [
    {
     "data": {
      "text/plain": [
       "(2, 1e-08, array([0, 0, 0]))"
      ]
     },
     "execution_count": 8,
     "metadata": {},
     "output_type": "execute_result"
    }
   ],
   "source": [
    "A = ChargedSphere(np.array([1,1,1]),2,.00000001,np.array([0,0,0]))\n",
    "\n",
    "A.rad, A.rho, A.x"
   ]
  },
  {
   "cell_type": "code",
   "execution_count": 11,
   "metadata": {
    "collapsed": false
   },
   "outputs": [
    {
     "data": {
      "text/plain": [
       "<bound method ChargedSphere.E_Sphere of <__main__.ChargedSphere object at 0x7fa958035e10>>"
      ]
     },
     "execution_count": 11,
     "metadata": {},
     "output_type": "execute_result"
    }
   ],
   "source": [
    "B = A.E_Sphere\n",
    "B"
   ]
  },
  {
   "cell_type": "code",
   "execution_count": null,
   "metadata": {
    "collapsed": true
   },
   "outputs": [],
   "source": [
    "class ChargedSphereShell(ChargedObject):\n",
    "    \n",
    "    def __init__(self,center,radius,distribution,POI):\n",
    "        self.c = center\n",
    "        self.rad = radius\n",
    "        self.sigma = distribution\n",
    "        self.x = POI\n",
    "        \n",
    "                \n",
    "    def E_Sphere_Shell(c,rad,sigma,x):\n",
    "        if np.linalg.norm(x-c) < R :\n",
    "            E_Field = 0\n",
    "        if x >= R:\n",
    "            E_Field = (sigma/constants.epsilon_0)*((rad**2)/((np.linalg.norm(x-c)**2)))\n",
    "        return E_Field"
   ]
  },
  {
   "cell_type": "code",
   "execution_count": null,
   "metadata": {
    "collapsed": false
   },
   "outputs": [],
   "source": [
    "class ChargedCylinderShell(ChargedObject):\n",
    "    def __init__(self, center, axis, radius, distribution,POI):\n",
    "        self.c = center\n",
    "        self.axis = axis\n",
    "        self.rad = radius\n",
    "        self.sigma = sigma\n",
    "        self.x = POI\n",
    "        \n",
    "    def E_Cylinder_Shell(c,rad,sigma,x):\n",
    "        if np.linalg.norm(x-c) <= rad :\n",
    "            E_Field = 0\n",
    "        if np.linalg.norm(x-c) > rad:\n",
    "            E_Field = (sigma/constants.epsilon_0)*((rad)/((np.linalg.norm(x-c))))\n",
    "        return E_Field"
   ]
  },
  {
   "cell_type": "code",
   "execution_count": null,
   "metadata": {
    "collapsed": true
   },
   "outputs": [],
   "source": [
    "class ChargedCylinder(ChargedObject):\n",
    "    \n",
    "    def __init__(self,center, radius, sigma,POI) :\n",
    "        self.c = center\n",
    "        self.rad = radius\n",
    "        self.sigma = sigma\n",
    "        self.x = POI\n",
    "        \n",
    "    def E_Cylinder(c,rad,sigma,x):\n",
    "        if np.linalg.norm(x-c) <= rad :\n",
    "            E_Field = (rho/constants.epsilon_0)*(np.linalg.norm(x-c)/2)\n",
    "        if np.linalg.norm(x-c) > rad:\n",
    "            E_Field = (rho/constants.epsilon_0)*((rad**2)/(2*(np.linalg.norm(x-c))))\n",
    "        return E_Field\n",
    "    "
   ]
  },
  {
   "cell_type": "code",
   "execution_count": null,
   "metadata": {
    "collapsed": true
   },
   "outputs": [],
   "source": [
    "class ChargedPlane(ChargedObject):\n",
    "    \n",
    "    def __init__(self,center, distribution,normal):\n",
    "        class Infinite_Plane(object):\n",
    "    \n",
    "        self.normal = normal\n",
    "        self.sigma = distribution\n",
    "        self.c = center\n",
    "        \n",
    "        \n",
    "    def E_Plane(sigma):\n",
    "        E_Field = sigma/(2*constants.epsilon_0)\n",
    "        return E_Field\n",
    "        "
   ]
  }
 ],
 "metadata": {
  "kernelspec": {
   "display_name": "Python 3",
   "language": "python",
   "name": "python3"
  },
  "language_info": {
   "codemirror_mode": {
    "name": "ipython",
    "version": 3
   },
   "file_extension": ".py",
   "mimetype": "text/x-python",
   "name": "python",
   "nbconvert_exporter": "python",
   "pygments_lexer": "ipython3",
   "version": "3.5.1"
  }
 },
 "nbformat": 4,
 "nbformat_minor": 0
}
